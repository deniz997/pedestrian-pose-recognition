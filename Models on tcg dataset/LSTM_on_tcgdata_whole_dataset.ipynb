{
 "cells": [
  {
   "cell_type": "code",
   "execution_count": 79,
   "id": "f22e7f86",
   "metadata": {},
   "outputs": [
    {
     "name": "stdout",
     "output_type": "stream",
     "text": [
      "550\n",
      "dict_keys(['sequences', 'dataset', 'description', 'version', 'joint_dictionary'])\n",
      "550\n",
      "[[[-1.30057383e-01 -2.87529844e+00  3.21951370e+01]\n",
      "  [ 1.01548117e-01 -8.05008894e-01  5.99461899e+01]\n",
      "  [ 0.00000000e+00  0.00000000e+00  0.00000000e+00]\n",
      "  ...\n",
      "  [ 9.12524309e+00 -1.62379413e+00 -5.10988693e+01]\n",
      "  [ 8.91745327e+00  1.96904989e-01 -6.25629425e+00]\n",
      "  [-4.10138145e-02 -1.42855572e+00  1.86052094e+01]]\n",
      "\n",
      " [[-1.28102608e-01 -2.87761379e+00  3.21949310e+01]\n",
      "  [ 1.02079381e-01 -8.08472654e-01  5.99459534e+01]\n",
      "  [ 0.00000000e+00  0.00000000e+00  0.00000000e+00]\n",
      "  ...\n",
      "  [ 9.12010052e+00 -1.62173269e+00 -5.10997581e+01]\n",
      "  [ 8.91693451e+00  1.96307000e-01 -6.25704956e+00]\n",
      "  [-3.96665519e-02 -1.42961226e+00  1.86051254e+01]]\n",
      "\n",
      " [[-1.27165717e-01 -2.88150805e+00  3.21945801e+01]\n",
      "  [ 1.02370057e-01 -8.12958233e-01  5.99454956e+01]\n",
      "  [ 0.00000000e+00  0.00000000e+00  0.00000000e+00]\n",
      "  ...\n",
      "  [ 9.12307961e+00 -1.62498423e+00 -5.10996361e+01]\n",
      "  [ 8.91685468e+00  1.97516109e-01 -6.25712585e+00]\n",
      "  [-3.92873812e-02 -1.43180450e+00  1.86049576e+01]]\n",
      "\n",
      " ...\n",
      "\n",
      " [[-1.89525130e-01 -3.80571760e+00  3.21034927e+01]\n",
      "  [ 4.84437340e-01 -5.31059641e-01  5.96972122e+01]\n",
      "  [ 0.00000000e+00  0.00000000e+00  0.00000000e+00]\n",
      "  ...\n",
      "  [ 9.97770572e+00  1.76719847e+00 -5.10609360e+01]\n",
      "  [ 8.91454794e+00 -4.41702349e-01 -6.24793243e+00]\n",
      "  [-1.99799397e-01 -2.26206230e+00  1.85239410e+01]]\n",
      "\n",
      " [[-1.94303779e-01 -3.80838478e+00  3.21031342e+01]\n",
      "  [ 4.76274804e-01 -5.38137618e-01  5.96971741e+01]\n",
      "  [ 0.00000000e+00  0.00000000e+00  0.00000000e+00]\n",
      "  ...\n",
      "  [ 9.97749420e+00  1.76371397e+00 -5.10599518e+01]\n",
      "  [ 8.91499502e+00 -4.46160614e-01 -6.24697876e+00]\n",
      "  [-2.02813038e-01 -2.26261501e+00  1.85238342e+01]]\n",
      "\n",
      " [[-1.97901081e-01 -3.81133125e+00  3.21027756e+01]\n",
      "  [ 4.71408793e-01 -5.41083350e-01  5.96966476e+01]\n",
      "  [ 0.00000000e+00  0.00000000e+00  0.00000000e+00]\n",
      "  ...\n",
      "  [ 9.97503541e+00  1.75874734e+00 -5.10594139e+01]\n",
      "  [ 8.91544061e+00 -4.47946072e-01 -6.24622345e+00]\n",
      "  [-2.05040495e-01 -2.26443440e+00  1.85235825e+01]]]\n",
      "(3400, 17, 3)\n"
     ]
    }
   ],
   "source": [
    "# %load data_parser.py\n",
    "import os\n",
    "import json\n",
    "import numpy as np\n",
    "\n",
    "\n",
    "def get_data(file_dir):\n",
    "    \"\"\"\n",
    "    Will read JSON files from the provided file directory and subdirectories and return a list of dicts\n",
    "    :param file_dir: directory where to look for input JSON files\n",
    "    :return: list of dicts converted from JSON files\n",
    "    \"\"\"\n",
    "    print('Starting to read JAAD json files!')\n",
    "    json_list = []\n",
    "\n",
    "    for dirpath, dirnames, filenames in os.walk(file_dir):\n",
    "        JAAD_list = [pos_json for pos_json in filenames if pos_json.endswith('.json')]\n",
    "        for js in JAAD_list:\n",
    "            with open(os.path.join(dirpath, js)) as json_file:\n",
    "                json_list.append(json.load(json_file))\n",
    "\n",
    "    return json_list\n",
    "\n",
    "\n",
    "def get_data_TCG(file_dir: str) -> (np.ndarray, dict):\n",
    "    \"\"\"\n",
    "    Read in the TCG dataset and its annotation\n",
    "    :param file_dir: directory where data and annotations from TCG are stored\n",
    "    :return: Data as np array and annotations as dict\n",
    "    \"\"\"\n",
    "#     tcg_data = np.load(file_dir + 'tcg_data.npy', allow_pickle=True)\n",
    "    tcg_data = np.load('tcg_data.npy', allow_pickle=True)\n",
    "#     with open(file_dir + 'tcg.json') as json_file:\n",
    "    with open('tcg.json') as json_file:\n",
    "        tcg_json = json.load(json_file)\n",
    "\n",
    "    return tcg_data, tcg_json\n",
    "\n",
    "\n",
    "# get_data('../data/JAAD_output_JSON')\n",
    "\n",
    "# example usage\n",
    "tcg_d, tcg_j = get_data_TCG('../data/TCG/')\n",
    "print(len(tcg_d))\n",
    "print(tcg_j.keys())\n",
    "print(len(tcg_j['sequences']))\n",
    "print(tcg_d[0])\n",
    "print(tcg_d[0].shape)"
   ]
  },
  {
   "cell_type": "code",
   "execution_count": 80,
   "id": "8551dd0a",
   "metadata": {},
   "outputs": [
    {
     "data": {
      "text/plain": [
       "{'subject_id': 5,\n",
       " 'junction': 'X',\n",
       " 'scene_id': 5,\n",
       " 'scene_agents': [{'id': 1,\n",
       "   'position': 'right',\n",
       "   'intention': 'goes left',\n",
       "   'queue': 3},\n",
       "  {'id': 4, 'position': 'bottom', 'intention': 'goes straight', 'queue': 1},\n",
       "  {'id': 3, 'position': 'left', 'intention': 'goes left', 'queue': 3},\n",
       "  {'id': 2, 'position': 'top', 'intention': 'goes left', 'queue': 2}],\n",
       " 'agent_number': 2,\n",
       " 'annotation': [['inactive', 'normal-pose', 0, 717],\n",
       "  ['inactive', 'transition', 717, 741],\n",
       "  ['stop', 'right-static', 741, 894],\n",
       "  ['inactive', 'transition', 894, 906],\n",
       "  ['inactive', 'normal-pose', 906, 3574],\n",
       "  ['inactive', 'transition', 3574, 3614],\n",
       "  ['go', 'right-dynamic', 3614, 3795],\n",
       "  ['inactive', 'normal-pose', 3795, 5659],\n",
       "  ['inactive', 'out-of-vocabulary', 5659, 5921],\n",
       "  ['inactive', 'normal-pose', 5921, 6132]],\n",
       " 'num_frames': 6132}"
      ]
     },
     "execution_count": 80,
     "metadata": {},
     "output_type": "execute_result"
    }
   ],
   "source": [
    "tcg_j['sequences'][549]"
   ]
  },
  {
   "cell_type": "code",
   "execution_count": 81,
   "id": "ab4844d7",
   "metadata": {},
   "outputs": [
    {
     "data": {
      "text/plain": [
       "(550,)"
      ]
     },
     "execution_count": 81,
     "metadata": {},
     "output_type": "execute_result"
    }
   ],
   "source": [
    "tcg_d.shape"
   ]
  },
  {
   "cell_type": "code",
   "execution_count": 98,
   "id": "360ee832",
   "metadata": {},
   "outputs": [],
   "source": [
    "data=tcg_d[0]\n",
    "a=0\n",
    "for i in range(550):\n",
    "    a+=tcg_j['sequences'][i]['num_frames']\n",
    "    data=np.concatenate((data,tcg_d[i]),axis=0)"
   ]
  },
  {
   "cell_type": "code",
   "execution_count": 99,
   "id": "48835e5a",
   "metadata": {},
   "outputs": [],
   "source": [
    "data=data[3400:]"
   ]
  },
  {
   "cell_type": "code",
   "execution_count": 100,
   "id": "68e7717a",
   "metadata": {},
   "outputs": [
    {
     "data": {
      "text/plain": [
       "(1493472, 17, 3)"
      ]
     },
     "execution_count": 100,
     "metadata": {},
     "output_type": "execute_result"
    }
   ],
   "source": [
    "data.shape"
   ]
  },
  {
   "cell_type": "code",
   "execution_count": 85,
   "id": "0f7a6b26",
   "metadata": {},
   "outputs": [
    {
     "data": {
      "text/plain": [
       "1493472"
      ]
     },
     "execution_count": 85,
     "metadata": {},
     "output_type": "execute_result"
    }
   ],
   "source": [
    "a"
   ]
  },
  {
   "cell_type": "markdown",
   "id": "852d9983",
   "metadata": {},
   "source": [
    "## data length:1493472"
   ]
  },
  {
   "cell_type": "markdown",
   "id": "981bb8de",
   "metadata": {},
   "source": [
    "##### set 500 sequences as training data,50 sequences as test data"
   ]
  },
  {
   "cell_type": "code",
   "execution_count": 104,
   "id": "39f2fd80",
   "metadata": {},
   "outputs": [
    {
     "data": {
      "text/plain": [
       "1352138"
      ]
     },
     "execution_count": 104,
     "metadata": {},
     "output_type": "execute_result"
    }
   ],
   "source": [
    "length_tr=0\n",
    "for i in range(500):\n",
    "    length_tr+=tcg_j['sequences'][i]['num_frames']\n",
    "length_tr"
   ]
  },
  {
   "cell_type": "markdown",
   "id": "76dfc7f6",
   "metadata": {},
   "source": [
    "## Turn 3D data to Tensor"
   ]
  },
  {
   "cell_type": "code",
   "execution_count": 101,
   "id": "d4ff9e11",
   "metadata": {},
   "outputs": [],
   "source": [
    "import tensorflow as tf"
   ]
  },
  {
   "cell_type": "code",
   "execution_count": 102,
   "id": "a782252b",
   "metadata": {},
   "outputs": [],
   "source": [
    "tensor = tf.convert_to_tensor(data)"
   ]
  },
  {
   "cell_type": "code",
   "execution_count": 103,
   "id": "cc7cf429",
   "metadata": {},
   "outputs": [
    {
     "data": {
      "text/plain": [
       "TensorShape([1493472, 17, 3])"
      ]
     },
     "execution_count": 103,
     "metadata": {},
     "output_type": "execute_result"
    }
   ],
   "source": [
    "tensor.shape"
   ]
  },
  {
   "cell_type": "code",
   "execution_count": 91,
   "id": "c4ca168f",
   "metadata": {},
   "outputs": [],
   "source": [
    "lst=tcg_j['sequences'][0]['annotation']"
   ]
  },
  {
   "cell_type": "code",
   "execution_count": 92,
   "id": "75d66871",
   "metadata": {},
   "outputs": [],
   "source": [
    "for i in range(1,550):\n",
    "    lst+=tcg_j['sequences'][i]['annotation']"
   ]
  },
  {
   "cell_type": "code",
   "execution_count": 93,
   "id": "d98c1f21",
   "metadata": {},
   "outputs": [
    {
     "data": {
      "text/plain": [
       "[['inactive', 'normal-pose', 0, 1045],\n",
       " ['inactive', 'transition', 1045, 1112],\n",
       " ['stop', 'both-static', 1112, 1461],\n",
       " ['inactive', 'transition', 1461, 1573],\n",
       " ['clear', 'right-static', 1573, 1818],\n",
       " ['inactive', 'transition', 1818, 1951],\n",
       " ['go', 'both-static', 1951, 2482],\n",
       " ['inactive', 'transition', 2482, 2582],\n",
       " ['inactive', 'normal-pose', 2582, 3400],\n",
       " ['inactive', 'normal-pose', 0, 735]]"
      ]
     },
     "execution_count": 93,
     "metadata": {},
     "output_type": "execute_result"
    }
   ],
   "source": [
    "lst[:10]"
   ]
  },
  {
   "cell_type": "code",
   "execution_count": 107,
   "id": "5a194324",
   "metadata": {},
   "outputs": [
    {
     "data": {
      "text/plain": [
       "(1493472,)"
      ]
     },
     "execution_count": 107,
     "metadata": {},
     "output_type": "execute_result"
    }
   ],
   "source": [
    "# inactive=0\n",
    "# stop=1\n",
    "# clear=2\n",
    "# go=3\n",
    "\n",
    "#create labels(y)\n",
    "y_all=[]\n",
    "for item in lst:\n",
    "    if item[0]=='inactive':\n",
    "        y_all.append('0'*(item[3]-item[2]))\n",
    "    elif item[0]=='stop':\n",
    "        y_all.append('1'*(item[3]-item[2]))\n",
    "    elif item[0]=='clear':\n",
    "        y_all.append('2'*(item[3]-item[2]))\n",
    "    elif item[0]=='go':\n",
    "        y_all.append('3'*(item[3]-item[2]))\n",
    "\n",
    "alle=''\n",
    "for i in y_all:\n",
    "    alle+=i\n",
    "\n",
    "lst_new=[int(char) for char in alle]\n",
    "label=np.array(lst_new)\n",
    "label.shape"
   ]
  },
  {
   "cell_type": "code",
   "execution_count": 108,
   "id": "7f8ada28",
   "metadata": {},
   "outputs": [
    {
     "data": {
      "text/plain": [
       "0"
      ]
     },
     "execution_count": 108,
     "metadata": {},
     "output_type": "execute_result"
    }
   ],
   "source": [
    "label[0]"
   ]
  },
  {
   "cell_type": "markdown",
   "id": "af1ff628",
   "metadata": {},
   "source": [
    "## split train and test data"
   ]
  },
  {
   "cell_type": "code",
   "execution_count": 109,
   "id": "2b5e71b0",
   "metadata": {},
   "outputs": [],
   "source": [
    "transposed_tensor = tf.transpose(tensor, perm=[1, 0, 2])"
   ]
  },
  {
   "cell_type": "code",
   "execution_count": 111,
   "id": "9d3178e3",
   "metadata": {},
   "outputs": [
    {
     "data": {
      "text/plain": [
       "<tf.Tensor: shape=(3, 1493472, 17), dtype=float64, numpy=\n",
       "array([[[-1.30057383e-01,  1.01548117e-01,  0.00000000e+00, ...,\n",
       "          9.12524309e+00,  8.91745327e+00, -4.10138145e-02],\n",
       "        [-2.87529844e+00, -8.05008894e-01,  0.00000000e+00, ...,\n",
       "         -1.62379413e+00,  1.96904989e-01, -1.42855572e+00],\n",
       "        [ 3.21951370e+01,  5.99461899e+01,  0.00000000e+00, ...,\n",
       "         -5.10988693e+01, -6.25629425e+00,  1.86052094e+01],\n",
       "        ...,\n",
       "        [ 1.11139622e+00,  3.32041788e+00,  0.00000000e+00, ...,\n",
       "         -1.04771824e+00, -8.81053474e+00,  7.35899559e-01],\n",
       "        [ 1.55280398e+00,  3.57639917e-02,  0.00000000e+00, ...,\n",
       "         -1.50032096e+01, -2.61914082e+00,  5.63636027e-01],\n",
       "        [ 3.22618408e+01,  6.00113983e+01,  0.00000000e+00, ...,\n",
       "         -4.82827454e+01, -5.84941101e+00,  1.86358490e+01]],\n",
       "\n",
       "       [[ 1.16337247e+00,  3.44552098e+00,  0.00000000e+00, ...,\n",
       "         -1.07100658e+00, -8.80291455e+00,  7.64644807e-01],\n",
       "        [ 1.54434521e+00,  6.63436904e-02,  0.00000000e+00, ...,\n",
       "         -1.52095824e+01, -2.67217331e+00,  5.57052268e-01],\n",
       "        [ 3.22603455e+01,  6.00069275e+01,  0.00000000e+00, ...,\n",
       "         -4.82308121e+01, -5.83686829e+00,  1.86348801e+01],\n",
       "        ...,\n",
       "        [-2.42746620e+00, -7.23521137e+00,  0.00000000e+00, ...,\n",
       "          1.69576975e+01,  9.37720261e+00, -1.47444216e+00],\n",
       "        [-3.90985016e+00,  2.22502291e-01,  0.00000000e+00, ...,\n",
       "          9.83817903e+00,  1.20798800e+00, -2.25576377e+00],\n",
       "        [ 3.19994202e+01,  5.86199799e+01,  0.00000000e+00, ...,\n",
       "         -4.87989960e+01, -5.41385651e+00,  1.84663925e+01]],\n",
       "\n",
       "       [[-2.37941512e+00, -7.19409414e+00,  0.00000000e+00, ...,\n",
       "          1.69576191e+01,  9.36526061e+00, -1.44365786e+00],\n",
       "        [-3.93387108e+00,  1.66083898e-01,  0.00000000e+00, ...,\n",
       "          9.73691317e+00,  1.24940614e+00, -2.26853824e+00],\n",
       "        [ 3.20001144e+01,  5.86234818e+01,  0.00000000e+00, ...,\n",
       "         -4.88363228e+01, -5.42510986e+00,  1.84672546e+01],\n",
       "        ...,\n",
       "        [ 3.21613164e-01, -1.26362286e+00,  0.00000000e+00, ...,\n",
       "         -8.19929985e+00, -8.33262329e+00,  1.55489804e-01],\n",
       "        [ 2.59557778e+00,  9.50499690e-01,  0.00000000e+00, ...,\n",
       "          5.68397789e+00,  2.98859386e+00,  1.10857108e+00],\n",
       "        [ 3.22097855e+01,  5.99055405e+01,  0.00000000e+00, ...,\n",
       "         -5.11499100e+01, -6.35111237e+00,  1.86249161e+01]]])>"
      ]
     },
     "execution_count": 111,
     "metadata": {},
     "output_type": "execute_result"
    }
   ],
   "source": [
    "reshaped_data = tf.transpose(tensor,perm=[0,2,1])\n",
    "reshaped_data = tf.reshape(reshaped_data,shape=(-1,1493472,17))\n",
    "reshaped_data"
   ]
  },
  {
   "cell_type": "code",
   "execution_count": 112,
   "id": "8559cd14",
   "metadata": {},
   "outputs": [],
   "source": [
    "mean,var=tf.nn.moments(tensor,axes=[0,1,2])\n",
    "normalized_tensor=(tensor-mean)/tf.sqrt(var)"
   ]
  },
  {
   "cell_type": "code",
   "execution_count": 113,
   "id": "dc0cfeca",
   "metadata": {},
   "outputs": [
    {
     "data": {
      "text/plain": [
       "<tf.Tensor: shape=(1493472, 17, 3), dtype=float64, numpy=\n",
       "array([[[-0.02455627, -0.11752077,  1.0701    ],\n",
       "        [-0.01671322, -0.04741275,  2.00985813],\n",
       "        [-0.02015203, -0.02015203, -0.02015203],\n",
       "        ...,\n",
       "        [ 0.28886404, -0.07513999, -1.75055765],\n",
       "        [ 0.28182748, -0.01348406, -0.23201438],\n",
       "        [-0.02154091, -0.06852846,  0.60989242]],\n",
       "\n",
       "       [[-0.02449008, -0.11759918,  1.07009303],\n",
       "        [-0.01669522, -0.04753004,  2.00985012],\n",
       "        [-0.02015203, -0.02015203, -0.02015203],\n",
       "        ...,\n",
       "        [ 0.2886899 , -0.07507018, -1.75058775],\n",
       "        [ 0.28180991, -0.01350431, -0.23203996],\n",
       "        [-0.02149529, -0.06856424,  0.60988958]],\n",
       "\n",
       "       [[-0.02445835, -0.11773105,  1.07008114],\n",
       "        [-0.01668538, -0.04768194,  2.00983462],\n",
       "        [-0.02015203, -0.02015203, -0.02015203],\n",
       "        ...,\n",
       "        [ 0.28879078, -0.07518029, -1.75058361],\n",
       "        [ 0.28180721, -0.01346337, -0.23204254],\n",
       "        [-0.02148245, -0.06863847,  0.60988389]],\n",
       "\n",
       "       ...,\n",
       "\n",
       "       [[-0.00938809,  0.06763908,  1.07060536],\n",
       "        [-0.06356915,  0.012187  ,  2.0085069 ],\n",
       "        [-0.02015203, -0.02015203, -0.02015203],\n",
       "        ...,\n",
       "        [-0.29813741,  0.17278305, -1.75224397],\n",
       "        [-0.30233257,  0.0810736 , -0.2352085 ],\n",
       "        [-0.01490492,  0.01732366,  0.6105639 ]],\n",
       "\n",
       "       [[-0.00918351,  0.06766906,  1.07060251],\n",
       "        [-0.06301724,  0.01201356,  2.00850045],\n",
       "        [-0.02015203, -0.02015203, -0.02015203],\n",
       "        ...,\n",
       "        [-0.29792335,  0.17264601, -1.75224087],\n",
       "        [-0.30231935,  0.081142  , -0.23519351],\n",
       "        [-0.01482222,  0.01736351,  0.61056106]],\n",
       "\n",
       "       [[-0.00926096,  0.06774429,  1.07059606],\n",
       "        [-0.06294319,  0.01203557,  2.00848158],\n",
       "        [-0.02015203, -0.02015203, -0.02015203],\n",
       "        ...,\n",
       "        [-0.29781208,  0.17232948, -1.75228608],\n",
       "        [-0.30232692,  0.08105333, -0.23522529],\n",
       "        [-0.01488654,  0.01738848,  0.61055976]]])>"
      ]
     },
     "execution_count": 113,
     "metadata": {},
     "output_type": "execute_result"
    }
   ],
   "source": [
    "normalized_tensor"
   ]
  },
  {
   "cell_type": "code",
   "execution_count": 114,
   "id": "9f9a4548",
   "metadata": {},
   "outputs": [],
   "source": [
    "x_tr=normalized_tensor[:1352138]\n",
    "x_te=normalized_tensor[1352138:]\n",
    "y_tr=label[:1352138]\n",
    "y_te=label[1352138:]"
   ]
  },
  {
   "cell_type": "code",
   "execution_count": 115,
   "id": "62bf94d7",
   "metadata": {},
   "outputs": [
    {
     "data": {
      "text/plain": [
       "TensorShape([1352138, 17, 3])"
      ]
     },
     "execution_count": 115,
     "metadata": {},
     "output_type": "execute_result"
    }
   ],
   "source": [
    "x_tr.shape"
   ]
  },
  {
   "cell_type": "markdown",
   "id": "41a295ed",
   "metadata": {},
   "source": [
    "### y --> onehot coding"
   ]
  },
  {
   "cell_type": "code",
   "execution_count": 116,
   "id": "62405b21",
   "metadata": {},
   "outputs": [],
   "source": [
    "# uniq=np.unique(label)\n",
    "# sorted_v=np.sort(uniq)\n",
    "# one_hot=np.zeros((len(label),len(sorted_v)))\n",
    "# for i,v in enumerate(label):\n",
    "#     index=np.where(sorted_v==v)[0][0]\n",
    "#     one_hot[i,index]=1\n",
    "# # print(one_hot)\n",
    "# y_tr=one_hot[:2482]\n",
    "# y_te=one_hot[2482:]"
   ]
  },
  {
   "cell_type": "markdown",
   "id": "8cd6e1d2",
   "metadata": {},
   "source": [
    "## LSTM "
   ]
  },
  {
   "cell_type": "code",
   "execution_count": 117,
   "id": "7f846843",
   "metadata": {},
   "outputs": [
    {
     "name": "stdout",
     "output_type": "stream",
     "text": [
      "Epoch 1/10\n",
      "42255/42255 [==============================] - 297s 7ms/step - loss: 0.4224 - accuracy: 0.7057\n",
      "Epoch 2/10\n",
      "42255/42255 [==============================] - 316s 7ms/step - loss: 0.2364 - accuracy: 0.7443\n",
      "Epoch 3/10\n",
      "42255/42255 [==============================] - 291s 7ms/step - loss: 0.1682 - accuracy: 0.7577\n",
      "Epoch 4/10\n",
      "42255/42255 [==============================] - 365s 9ms/step - loss: 0.1348 - accuracy: 0.7652\n",
      "Epoch 5/10\n",
      "42255/42255 [==============================] - 305s 7ms/step - loss: 0.1167 - accuracy: 0.7696\n",
      "Epoch 6/10\n",
      "42255/42255 [==============================] - 309s 7ms/step - loss: 0.1055 - accuracy: 0.7722\n",
      "Epoch 7/10\n",
      "42255/42255 [==============================] - 299s 7ms/step - loss: 0.0982 - accuracy: 0.7742\n",
      "Epoch 8/10\n",
      "42255/42255 [==============================] - 314s 7ms/step - loss: 0.0933 - accuracy: 0.7753\n",
      "Epoch 9/10\n",
      "42255/42255 [==============================] - 314s 7ms/step - loss: 0.0895 - accuracy: 0.7760\n",
      "Epoch 10/10\n",
      "42255/42255 [==============================] - 309s 7ms/step - loss: 0.0862 - accuracy: 0.7767\n"
     ]
    }
   ],
   "source": [
    "from tensorflow import keras\n",
    "from tensorflow.keras.models import Sequential\n",
    "from tensorflow.keras.layers import LSTM, Dense,Input\n",
    "\n",
    "# define model\n",
    "timesteps=1352138\n",
    "features=17\n",
    "coordinate_values=3\n",
    "model = Sequential()\n",
    "# model.add(LSTM(units=32, input_shape=(timesteps, features))) \n",
    "model.add(LSTM(64,input_shape=(features, coordinate_values)))\n",
    "model.add(Dense(1))  # output layer，units is the unit number for output\n",
    "\n",
    "# compile model\n",
    "model.compile(optimizer='adam', loss='mean_squared_error',metrics=['accuracy'])\n",
    "\n",
    "# train model\n",
    "model.fit(x_tr, y_tr, epochs=10, batch_size=32) \n",
    "\n",
    "# prediction\n",
    "predictions = model.predict(x_te)\n",
    "\n",
    "\n"
   ]
  },
  {
   "cell_type": "code",
   "execution_count": 118,
   "id": "e007b5d0",
   "metadata": {},
   "outputs": [
    {
     "ename": "ValueError",
     "evalue": "in user code:\n\n    D:\\Miniforge\\envs\\Ming\\lib\\site-packages\\tensorflow\\python\\keras\\engine\\training.py:1323 test_function  *\n        return step_function(self, iterator)\n    D:\\Miniforge\\envs\\Ming\\lib\\site-packages\\tensorflow\\python\\keras\\engine\\training.py:1314 step_function  **\n        outputs = model.distribute_strategy.run(run_step, args=(data,))\n    D:\\Miniforge\\envs\\Ming\\lib\\site-packages\\tensorflow\\python\\distribute\\distribute_lib.py:1285 run\n        return self._extended.call_for_each_replica(fn, args=args, kwargs=kwargs)\n    D:\\Miniforge\\envs\\Ming\\lib\\site-packages\\tensorflow\\python\\distribute\\distribute_lib.py:2833 call_for_each_replica\n        return self._call_for_each_replica(fn, args, kwargs)\n    D:\\Miniforge\\envs\\Ming\\lib\\site-packages\\tensorflow\\python\\distribute\\distribute_lib.py:3608 _call_for_each_replica\n        return fn(*args, **kwargs)\n    D:\\Miniforge\\envs\\Ming\\lib\\site-packages\\tensorflow\\python\\keras\\engine\\training.py:1307 run_step  **\n        outputs = model.test_step(data)\n    D:\\Miniforge\\envs\\Ming\\lib\\site-packages\\tensorflow\\python\\keras\\engine\\training.py:1266 test_step\n        y_pred = self(x, training=False)\n    D:\\Miniforge\\envs\\Ming\\lib\\site-packages\\tensorflow\\python\\keras\\engine\\base_layer.py:1013 __call__\n        input_spec.assert_input_compatibility(self.input_spec, inputs, self.name)\n    D:\\Miniforge\\envs\\Ming\\lib\\site-packages\\tensorflow\\python\\keras\\engine\\input_spec.py:215 assert_input_compatibility\n        raise ValueError('Input ' + str(input_index) + ' of layer ' +\n\n    ValueError: Input 0 of layer sequential_1 is incompatible with the layer: expected ndim=3, found ndim=2. Full shape received: (None, 1)\n",
     "output_type": "error",
     "traceback": [
      "\u001b[1;31m---------------------------------------------------------------------------\u001b[0m",
      "\u001b[1;31mValueError\u001b[0m                                Traceback (most recent call last)",
      "Input \u001b[1;32mIn [118]\u001b[0m, in \u001b[0;36m<cell line: 1>\u001b[1;34m()\u001b[0m\n\u001b[1;32m----> 1\u001b[0m \u001b[43mmodel\u001b[49m\u001b[38;5;241;43m.\u001b[39;49m\u001b[43mevaluate\u001b[49m\u001b[43m(\u001b[49m\u001b[43my_te\u001b[49m\u001b[43m,\u001b[49m\u001b[43mpredictions\u001b[49m\u001b[43m)\u001b[49m\n",
      "File \u001b[1;32mD:\\Miniforge\\envs\\Ming\\lib\\site-packages\\tensorflow\\python\\keras\\engine\\training.py:1489\u001b[0m, in \u001b[0;36mModel.evaluate\u001b[1;34m(self, x, y, batch_size, verbose, sample_weight, steps, callbacks, max_queue_size, workers, use_multiprocessing, return_dict, **kwargs)\u001b[0m\n\u001b[0;32m   1487\u001b[0m \u001b[38;5;28;01mwith\u001b[39;00m trace\u001b[38;5;241m.\u001b[39mTrace(\u001b[38;5;124m'\u001b[39m\u001b[38;5;124mtest\u001b[39m\u001b[38;5;124m'\u001b[39m, step_num\u001b[38;5;241m=\u001b[39mstep, _r\u001b[38;5;241m=\u001b[39m\u001b[38;5;241m1\u001b[39m):\n\u001b[0;32m   1488\u001b[0m   callbacks\u001b[38;5;241m.\u001b[39mon_test_batch_begin(step)\n\u001b[1;32m-> 1489\u001b[0m   tmp_logs \u001b[38;5;241m=\u001b[39m \u001b[38;5;28;43mself\u001b[39;49m\u001b[38;5;241;43m.\u001b[39;49m\u001b[43mtest_function\u001b[49m\u001b[43m(\u001b[49m\u001b[43miterator\u001b[49m\u001b[43m)\u001b[49m\n\u001b[0;32m   1490\u001b[0m   \u001b[38;5;28;01mif\u001b[39;00m data_handler\u001b[38;5;241m.\u001b[39mshould_sync:\n\u001b[0;32m   1491\u001b[0m     context\u001b[38;5;241m.\u001b[39masync_wait()\n",
      "File \u001b[1;32mD:\\Miniforge\\envs\\Ming\\lib\\site-packages\\tensorflow\\python\\eager\\def_function.py:889\u001b[0m, in \u001b[0;36mFunction.__call__\u001b[1;34m(self, *args, **kwds)\u001b[0m\n\u001b[0;32m    886\u001b[0m compiler \u001b[38;5;241m=\u001b[39m \u001b[38;5;124m\"\u001b[39m\u001b[38;5;124mxla\u001b[39m\u001b[38;5;124m\"\u001b[39m \u001b[38;5;28;01mif\u001b[39;00m \u001b[38;5;28mself\u001b[39m\u001b[38;5;241m.\u001b[39m_jit_compile \u001b[38;5;28;01melse\u001b[39;00m \u001b[38;5;124m\"\u001b[39m\u001b[38;5;124mnonXla\u001b[39m\u001b[38;5;124m\"\u001b[39m\n\u001b[0;32m    888\u001b[0m \u001b[38;5;28;01mwith\u001b[39;00m OptionalXlaContext(\u001b[38;5;28mself\u001b[39m\u001b[38;5;241m.\u001b[39m_jit_compile):\n\u001b[1;32m--> 889\u001b[0m   result \u001b[38;5;241m=\u001b[39m \u001b[38;5;28mself\u001b[39m\u001b[38;5;241m.\u001b[39m_call(\u001b[38;5;241m*\u001b[39margs, \u001b[38;5;241m*\u001b[39m\u001b[38;5;241m*\u001b[39mkwds)\n\u001b[0;32m    891\u001b[0m new_tracing_count \u001b[38;5;241m=\u001b[39m \u001b[38;5;28mself\u001b[39m\u001b[38;5;241m.\u001b[39mexperimental_get_tracing_count()\n\u001b[0;32m    892\u001b[0m without_tracing \u001b[38;5;241m=\u001b[39m (tracing_count \u001b[38;5;241m==\u001b[39m new_tracing_count)\n",
      "File \u001b[1;32mD:\\Miniforge\\envs\\Ming\\lib\\site-packages\\tensorflow\\python\\eager\\def_function.py:933\u001b[0m, in \u001b[0;36mFunction._call\u001b[1;34m(self, *args, **kwds)\u001b[0m\n\u001b[0;32m    930\u001b[0m \u001b[38;5;28;01mtry\u001b[39;00m:\n\u001b[0;32m    931\u001b[0m   \u001b[38;5;66;03m# This is the first call of __call__, so we have to initialize.\u001b[39;00m\n\u001b[0;32m    932\u001b[0m   initializers \u001b[38;5;241m=\u001b[39m []\n\u001b[1;32m--> 933\u001b[0m   \u001b[38;5;28;43mself\u001b[39;49m\u001b[38;5;241;43m.\u001b[39;49m\u001b[43m_initialize\u001b[49m\u001b[43m(\u001b[49m\u001b[43margs\u001b[49m\u001b[43m,\u001b[49m\u001b[43m \u001b[49m\u001b[43mkwds\u001b[49m\u001b[43m,\u001b[49m\u001b[43m \u001b[49m\u001b[43madd_initializers_to\u001b[49m\u001b[38;5;241;43m=\u001b[39;49m\u001b[43minitializers\u001b[49m\u001b[43m)\u001b[49m\n\u001b[0;32m    934\u001b[0m \u001b[38;5;28;01mfinally\u001b[39;00m:\n\u001b[0;32m    935\u001b[0m   \u001b[38;5;66;03m# At this point we know that the initialization is complete (or less\u001b[39;00m\n\u001b[0;32m    936\u001b[0m   \u001b[38;5;66;03m# interestingly an exception was raised) so we no longer need a lock.\u001b[39;00m\n\u001b[0;32m    937\u001b[0m   \u001b[38;5;28mself\u001b[39m\u001b[38;5;241m.\u001b[39m_lock\u001b[38;5;241m.\u001b[39mrelease()\n",
      "File \u001b[1;32mD:\\Miniforge\\envs\\Ming\\lib\\site-packages\\tensorflow\\python\\eager\\def_function.py:763\u001b[0m, in \u001b[0;36mFunction._initialize\u001b[1;34m(self, args, kwds, add_initializers_to)\u001b[0m\n\u001b[0;32m    760\u001b[0m \u001b[38;5;28mself\u001b[39m\u001b[38;5;241m.\u001b[39m_lifted_initializer_graph \u001b[38;5;241m=\u001b[39m lifted_initializer_graph\n\u001b[0;32m    761\u001b[0m \u001b[38;5;28mself\u001b[39m\u001b[38;5;241m.\u001b[39m_graph_deleter \u001b[38;5;241m=\u001b[39m FunctionDeleter(\u001b[38;5;28mself\u001b[39m\u001b[38;5;241m.\u001b[39m_lifted_initializer_graph)\n\u001b[0;32m    762\u001b[0m \u001b[38;5;28mself\u001b[39m\u001b[38;5;241m.\u001b[39m_concrete_stateful_fn \u001b[38;5;241m=\u001b[39m (\n\u001b[1;32m--> 763\u001b[0m     \u001b[38;5;28mself\u001b[39m\u001b[38;5;241m.\u001b[39m_stateful_fn\u001b[38;5;241m.\u001b[39m_get_concrete_function_internal_garbage_collected(  \u001b[38;5;66;03m# pylint: disable=protected-access\u001b[39;00m\n\u001b[0;32m    764\u001b[0m         \u001b[38;5;241m*\u001b[39margs, \u001b[38;5;241m*\u001b[39m\u001b[38;5;241m*\u001b[39mkwds))\n\u001b[0;32m    766\u001b[0m \u001b[38;5;28;01mdef\u001b[39;00m \u001b[38;5;21minvalid_creator_scope\u001b[39m(\u001b[38;5;241m*\u001b[39munused_args, \u001b[38;5;241m*\u001b[39m\u001b[38;5;241m*\u001b[39munused_kwds):\n\u001b[0;32m    767\u001b[0m   \u001b[38;5;124;03m\"\"\"Disables variable creation.\"\"\"\u001b[39;00m\n",
      "File \u001b[1;32mD:\\Miniforge\\envs\\Ming\\lib\\site-packages\\tensorflow\\python\\eager\\function.py:3050\u001b[0m, in \u001b[0;36mFunction._get_concrete_function_internal_garbage_collected\u001b[1;34m(self, *args, **kwargs)\u001b[0m\n\u001b[0;32m   3048\u001b[0m   args, kwargs \u001b[38;5;241m=\u001b[39m \u001b[38;5;28;01mNone\u001b[39;00m, \u001b[38;5;28;01mNone\u001b[39;00m\n\u001b[0;32m   3049\u001b[0m \u001b[38;5;28;01mwith\u001b[39;00m \u001b[38;5;28mself\u001b[39m\u001b[38;5;241m.\u001b[39m_lock:\n\u001b[1;32m-> 3050\u001b[0m   graph_function, _ \u001b[38;5;241m=\u001b[39m \u001b[38;5;28;43mself\u001b[39;49m\u001b[38;5;241;43m.\u001b[39;49m\u001b[43m_maybe_define_function\u001b[49m\u001b[43m(\u001b[49m\u001b[43margs\u001b[49m\u001b[43m,\u001b[49m\u001b[43m \u001b[49m\u001b[43mkwargs\u001b[49m\u001b[43m)\u001b[49m\n\u001b[0;32m   3051\u001b[0m \u001b[38;5;28;01mreturn\u001b[39;00m graph_function\n",
      "File \u001b[1;32mD:\\Miniforge\\envs\\Ming\\lib\\site-packages\\tensorflow\\python\\eager\\function.py:3444\u001b[0m, in \u001b[0;36mFunction._maybe_define_function\u001b[1;34m(self, args, kwargs)\u001b[0m\n\u001b[0;32m   3440\u001b[0m   \u001b[38;5;28;01mreturn\u001b[39;00m \u001b[38;5;28mself\u001b[39m\u001b[38;5;241m.\u001b[39m_define_function_with_shape_relaxation(\n\u001b[0;32m   3441\u001b[0m       args, kwargs, flat_args, filtered_flat_args, cache_key_context)\n\u001b[0;32m   3443\u001b[0m \u001b[38;5;28mself\u001b[39m\u001b[38;5;241m.\u001b[39m_function_cache\u001b[38;5;241m.\u001b[39mmissed\u001b[38;5;241m.\u001b[39madd(call_context_key)\n\u001b[1;32m-> 3444\u001b[0m graph_function \u001b[38;5;241m=\u001b[39m \u001b[38;5;28;43mself\u001b[39;49m\u001b[38;5;241;43m.\u001b[39;49m\u001b[43m_create_graph_function\u001b[49m\u001b[43m(\u001b[49m\u001b[43margs\u001b[49m\u001b[43m,\u001b[49m\u001b[43m \u001b[49m\u001b[43mkwargs\u001b[49m\u001b[43m)\u001b[49m\n\u001b[0;32m   3445\u001b[0m \u001b[38;5;28mself\u001b[39m\u001b[38;5;241m.\u001b[39m_function_cache\u001b[38;5;241m.\u001b[39mprimary[cache_key] \u001b[38;5;241m=\u001b[39m graph_function\n\u001b[0;32m   3447\u001b[0m \u001b[38;5;28;01mreturn\u001b[39;00m graph_function, filtered_flat_args\n",
      "File \u001b[1;32mD:\\Miniforge\\envs\\Ming\\lib\\site-packages\\tensorflow\\python\\eager\\function.py:3279\u001b[0m, in \u001b[0;36mFunction._create_graph_function\u001b[1;34m(self, args, kwargs, override_flat_arg_shapes)\u001b[0m\n\u001b[0;32m   3274\u001b[0m missing_arg_names \u001b[38;5;241m=\u001b[39m [\n\u001b[0;32m   3275\u001b[0m     \u001b[38;5;124m\"\u001b[39m\u001b[38;5;132;01m%s\u001b[39;00m\u001b[38;5;124m_\u001b[39m\u001b[38;5;132;01m%d\u001b[39;00m\u001b[38;5;124m\"\u001b[39m \u001b[38;5;241m%\u001b[39m (arg, i) \u001b[38;5;28;01mfor\u001b[39;00m i, arg \u001b[38;5;129;01min\u001b[39;00m \u001b[38;5;28menumerate\u001b[39m(missing_arg_names)\n\u001b[0;32m   3276\u001b[0m ]\n\u001b[0;32m   3277\u001b[0m arg_names \u001b[38;5;241m=\u001b[39m base_arg_names \u001b[38;5;241m+\u001b[39m missing_arg_names\n\u001b[0;32m   3278\u001b[0m graph_function \u001b[38;5;241m=\u001b[39m ConcreteFunction(\n\u001b[1;32m-> 3279\u001b[0m     \u001b[43mfunc_graph_module\u001b[49m\u001b[38;5;241;43m.\u001b[39;49m\u001b[43mfunc_graph_from_py_func\u001b[49m\u001b[43m(\u001b[49m\n\u001b[0;32m   3280\u001b[0m \u001b[43m        \u001b[49m\u001b[38;5;28;43mself\u001b[39;49m\u001b[38;5;241;43m.\u001b[39;49m\u001b[43m_name\u001b[49m\u001b[43m,\u001b[49m\n\u001b[0;32m   3281\u001b[0m \u001b[43m        \u001b[49m\u001b[38;5;28;43mself\u001b[39;49m\u001b[38;5;241;43m.\u001b[39;49m\u001b[43m_python_function\u001b[49m\u001b[43m,\u001b[49m\n\u001b[0;32m   3282\u001b[0m \u001b[43m        \u001b[49m\u001b[43margs\u001b[49m\u001b[43m,\u001b[49m\n\u001b[0;32m   3283\u001b[0m \u001b[43m        \u001b[49m\u001b[43mkwargs\u001b[49m\u001b[43m,\u001b[49m\n\u001b[0;32m   3284\u001b[0m \u001b[43m        \u001b[49m\u001b[38;5;28;43mself\u001b[39;49m\u001b[38;5;241;43m.\u001b[39;49m\u001b[43minput_signature\u001b[49m\u001b[43m,\u001b[49m\n\u001b[0;32m   3285\u001b[0m \u001b[43m        \u001b[49m\u001b[43mautograph\u001b[49m\u001b[38;5;241;43m=\u001b[39;49m\u001b[38;5;28;43mself\u001b[39;49m\u001b[38;5;241;43m.\u001b[39;49m\u001b[43m_autograph\u001b[49m\u001b[43m,\u001b[49m\n\u001b[0;32m   3286\u001b[0m \u001b[43m        \u001b[49m\u001b[43mautograph_options\u001b[49m\u001b[38;5;241;43m=\u001b[39;49m\u001b[38;5;28;43mself\u001b[39;49m\u001b[38;5;241;43m.\u001b[39;49m\u001b[43m_autograph_options\u001b[49m\u001b[43m,\u001b[49m\n\u001b[0;32m   3287\u001b[0m \u001b[43m        \u001b[49m\u001b[43marg_names\u001b[49m\u001b[38;5;241;43m=\u001b[39;49m\u001b[43marg_names\u001b[49m\u001b[43m,\u001b[49m\n\u001b[0;32m   3288\u001b[0m \u001b[43m        \u001b[49m\u001b[43moverride_flat_arg_shapes\u001b[49m\u001b[38;5;241;43m=\u001b[39;49m\u001b[43moverride_flat_arg_shapes\u001b[49m\u001b[43m,\u001b[49m\n\u001b[0;32m   3289\u001b[0m \u001b[43m        \u001b[49m\u001b[43mcapture_by_value\u001b[49m\u001b[38;5;241;43m=\u001b[39;49m\u001b[38;5;28;43mself\u001b[39;49m\u001b[38;5;241;43m.\u001b[39;49m\u001b[43m_capture_by_value\u001b[49m\u001b[43m)\u001b[49m,\n\u001b[0;32m   3290\u001b[0m     \u001b[38;5;28mself\u001b[39m\u001b[38;5;241m.\u001b[39m_function_attributes,\n\u001b[0;32m   3291\u001b[0m     function_spec\u001b[38;5;241m=\u001b[39m\u001b[38;5;28mself\u001b[39m\u001b[38;5;241m.\u001b[39mfunction_spec,\n\u001b[0;32m   3292\u001b[0m     \u001b[38;5;66;03m# Tell the ConcreteFunction to clean up its graph once it goes out of\u001b[39;00m\n\u001b[0;32m   3293\u001b[0m     \u001b[38;5;66;03m# scope. This is not the default behavior since it gets used in some\u001b[39;00m\n\u001b[0;32m   3294\u001b[0m     \u001b[38;5;66;03m# places (like Keras) where the FuncGraph lives longer than the\u001b[39;00m\n\u001b[0;32m   3295\u001b[0m     \u001b[38;5;66;03m# ConcreteFunction.\u001b[39;00m\n\u001b[0;32m   3296\u001b[0m     shared_func_graph\u001b[38;5;241m=\u001b[39m\u001b[38;5;28;01mFalse\u001b[39;00m)\n\u001b[0;32m   3297\u001b[0m \u001b[38;5;28;01mreturn\u001b[39;00m graph_function\n",
      "File \u001b[1;32mD:\\Miniforge\\envs\\Ming\\lib\\site-packages\\tensorflow\\python\\framework\\func_graph.py:999\u001b[0m, in \u001b[0;36mfunc_graph_from_py_func\u001b[1;34m(name, python_func, args, kwargs, signature, func_graph, autograph, autograph_options, add_control_dependencies, arg_names, op_return_value, collections, capture_by_value, override_flat_arg_shapes)\u001b[0m\n\u001b[0;32m    996\u001b[0m \u001b[38;5;28;01melse\u001b[39;00m:\n\u001b[0;32m    997\u001b[0m   _, original_func \u001b[38;5;241m=\u001b[39m tf_decorator\u001b[38;5;241m.\u001b[39munwrap(python_func)\n\u001b[1;32m--> 999\u001b[0m func_outputs \u001b[38;5;241m=\u001b[39m python_func(\u001b[38;5;241m*\u001b[39mfunc_args, \u001b[38;5;241m*\u001b[39m\u001b[38;5;241m*\u001b[39mfunc_kwargs)\n\u001b[0;32m   1001\u001b[0m \u001b[38;5;66;03m# invariant: `func_outputs` contains only Tensors, CompositeTensors,\u001b[39;00m\n\u001b[0;32m   1002\u001b[0m \u001b[38;5;66;03m# TensorArrays and `None`s.\u001b[39;00m\n\u001b[0;32m   1003\u001b[0m func_outputs \u001b[38;5;241m=\u001b[39m nest\u001b[38;5;241m.\u001b[39mmap_structure(convert, func_outputs,\n\u001b[0;32m   1004\u001b[0m                                   expand_composites\u001b[38;5;241m=\u001b[39m\u001b[38;5;28;01mTrue\u001b[39;00m)\n",
      "File \u001b[1;32mD:\\Miniforge\\envs\\Ming\\lib\\site-packages\\tensorflow\\python\\eager\\def_function.py:672\u001b[0m, in \u001b[0;36mFunction._defun_with_scope.<locals>.wrapped_fn\u001b[1;34m(*args, **kwds)\u001b[0m\n\u001b[0;32m    668\u001b[0m \u001b[38;5;28;01mwith\u001b[39;00m default_graph\u001b[38;5;241m.\u001b[39m_variable_creator_scope(scope, priority\u001b[38;5;241m=\u001b[39m\u001b[38;5;241m50\u001b[39m):  \u001b[38;5;66;03m# pylint: disable=protected-access\u001b[39;00m\n\u001b[0;32m    669\u001b[0m   \u001b[38;5;66;03m# __wrapped__ allows AutoGraph to swap in a converted function. We give\u001b[39;00m\n\u001b[0;32m    670\u001b[0m   \u001b[38;5;66;03m# the function a weak reference to itself to avoid a reference cycle.\u001b[39;00m\n\u001b[0;32m    671\u001b[0m   \u001b[38;5;28;01mwith\u001b[39;00m OptionalXlaContext(compile_with_xla):\n\u001b[1;32m--> 672\u001b[0m     out \u001b[38;5;241m=\u001b[39m weak_wrapped_fn()\u001b[38;5;241m.\u001b[39m__wrapped__(\u001b[38;5;241m*\u001b[39margs, \u001b[38;5;241m*\u001b[39m\u001b[38;5;241m*\u001b[39mkwds)\n\u001b[0;32m    673\u001b[0m   \u001b[38;5;28;01mreturn\u001b[39;00m out\n",
      "File \u001b[1;32mD:\\Miniforge\\envs\\Ming\\lib\\site-packages\\tensorflow\\python\\framework\\func_graph.py:986\u001b[0m, in \u001b[0;36mfunc_graph_from_py_func.<locals>.wrapper\u001b[1;34m(*args, **kwargs)\u001b[0m\n\u001b[0;32m    984\u001b[0m \u001b[38;5;28;01mexcept\u001b[39;00m \u001b[38;5;167;01mException\u001b[39;00m \u001b[38;5;28;01mas\u001b[39;00m e:  \u001b[38;5;66;03m# pylint:disable=broad-except\u001b[39;00m\n\u001b[0;32m    985\u001b[0m   \u001b[38;5;28;01mif\u001b[39;00m \u001b[38;5;28mhasattr\u001b[39m(e, \u001b[38;5;124m\"\u001b[39m\u001b[38;5;124mag_error_metadata\u001b[39m\u001b[38;5;124m\"\u001b[39m):\n\u001b[1;32m--> 986\u001b[0m     \u001b[38;5;28;01mraise\u001b[39;00m e\u001b[38;5;241m.\u001b[39mag_error_metadata\u001b[38;5;241m.\u001b[39mto_exception(e)\n\u001b[0;32m    987\u001b[0m   \u001b[38;5;28;01melse\u001b[39;00m:\n\u001b[0;32m    988\u001b[0m     \u001b[38;5;28;01mraise\u001b[39;00m\n",
      "\u001b[1;31mValueError\u001b[0m: in user code:\n\n    D:\\Miniforge\\envs\\Ming\\lib\\site-packages\\tensorflow\\python\\keras\\engine\\training.py:1323 test_function  *\n        return step_function(self, iterator)\n    D:\\Miniforge\\envs\\Ming\\lib\\site-packages\\tensorflow\\python\\keras\\engine\\training.py:1314 step_function  **\n        outputs = model.distribute_strategy.run(run_step, args=(data,))\n    D:\\Miniforge\\envs\\Ming\\lib\\site-packages\\tensorflow\\python\\distribute\\distribute_lib.py:1285 run\n        return self._extended.call_for_each_replica(fn, args=args, kwargs=kwargs)\n    D:\\Miniforge\\envs\\Ming\\lib\\site-packages\\tensorflow\\python\\distribute\\distribute_lib.py:2833 call_for_each_replica\n        return self._call_for_each_replica(fn, args, kwargs)\n    D:\\Miniforge\\envs\\Ming\\lib\\site-packages\\tensorflow\\python\\distribute\\distribute_lib.py:3608 _call_for_each_replica\n        return fn(*args, **kwargs)\n    D:\\Miniforge\\envs\\Ming\\lib\\site-packages\\tensorflow\\python\\keras\\engine\\training.py:1307 run_step  **\n        outputs = model.test_step(data)\n    D:\\Miniforge\\envs\\Ming\\lib\\site-packages\\tensorflow\\python\\keras\\engine\\training.py:1266 test_step\n        y_pred = self(x, training=False)\n    D:\\Miniforge\\envs\\Ming\\lib\\site-packages\\tensorflow\\python\\keras\\engine\\base_layer.py:1013 __call__\n        input_spec.assert_input_compatibility(self.input_spec, inputs, self.name)\n    D:\\Miniforge\\envs\\Ming\\lib\\site-packages\\tensorflow\\python\\keras\\engine\\input_spec.py:215 assert_input_compatibility\n        raise ValueError('Input ' + str(input_index) + ' of layer ' +\n\n    ValueError: Input 0 of layer sequential_1 is incompatible with the layer: expected ndim=3, found ndim=2. Full shape received: (None, 1)\n"
     ]
    }
   ],
   "source": [
    "model.evaluate(y_te,predictions)"
   ]
  },
  {
   "cell_type": "code",
   "execution_count": null,
   "id": "0164e8a1",
   "metadata": {},
   "outputs": [],
   "source": [
    "y_tr,len(y_tr)"
   ]
  },
  {
   "cell_type": "code",
   "execution_count": null,
   "id": "38172aab",
   "metadata": {},
   "outputs": [],
   "source": [
    "# predictions\n",
    "# len(predictions)"
   ]
  },
  {
   "cell_type": "code",
   "execution_count": null,
   "id": "b111f926",
   "metadata": {},
   "outputs": [],
   "source": [
    "round_pred=np.round(predictions).astype(int)"
   ]
  },
  {
   "cell_type": "code",
   "execution_count": null,
   "id": "01b92b6d",
   "metadata": {},
   "outputs": [],
   "source": [
    "print(round_pred[-10:])"
   ]
  },
  {
   "cell_type": "code",
   "execution_count": null,
   "id": "270d83c5",
   "metadata": {},
   "outputs": [],
   "source": []
  }
 ],
 "metadata": {
  "kernelspec": {
   "display_name": "Python 3 (ipykernel)",
   "language": "python",
   "name": "python3"
  },
  "language_info": {
   "codemirror_mode": {
    "name": "ipython",
    "version": 3
   },
   "file_extension": ".py",
   "mimetype": "text/x-python",
   "name": "python",
   "nbconvert_exporter": "python",
   "pygments_lexer": "ipython3",
   "version": "3.9.7"
  }
 },
 "nbformat": 4,
 "nbformat_minor": 5
}
