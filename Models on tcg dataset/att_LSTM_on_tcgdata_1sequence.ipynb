{
 "cells": [
  {
   "cell_type": "code",
   "execution_count": 2,
   "id": "f22e7f86",
   "metadata": {},
   "outputs": [
    {
     "name": "stdout",
     "output_type": "stream",
     "text": [
      "550\n",
      "dict_keys(['sequences', 'dataset', 'description', 'version', 'joint_dictionary'])\n",
      "550\n",
      "[[[-1.30057383e-01 -2.87529844e+00  3.21951370e+01]\n",
      "  [ 1.01548117e-01 -8.05008894e-01  5.99461899e+01]\n",
      "  [ 0.00000000e+00  0.00000000e+00  0.00000000e+00]\n",
      "  ...\n",
      "  [ 9.12524309e+00 -1.62379413e+00 -5.10988693e+01]\n",
      "  [ 8.91745327e+00  1.96904989e-01 -6.25629425e+00]\n",
      "  [-4.10138145e-02 -1.42855572e+00  1.86052094e+01]]\n",
      "\n",
      " [[-1.28102608e-01 -2.87761379e+00  3.21949310e+01]\n",
      "  [ 1.02079381e-01 -8.08472654e-01  5.99459534e+01]\n",
      "  [ 0.00000000e+00  0.00000000e+00  0.00000000e+00]\n",
      "  ...\n",
      "  [ 9.12010052e+00 -1.62173269e+00 -5.10997581e+01]\n",
      "  [ 8.91693451e+00  1.96307000e-01 -6.25704956e+00]\n",
      "  [-3.96665519e-02 -1.42961226e+00  1.86051254e+01]]\n",
      "\n",
      " [[-1.27165717e-01 -2.88150805e+00  3.21945801e+01]\n",
      "  [ 1.02370057e-01 -8.12958233e-01  5.99454956e+01]\n",
      "  [ 0.00000000e+00  0.00000000e+00  0.00000000e+00]\n",
      "  ...\n",
      "  [ 9.12307961e+00 -1.62498423e+00 -5.10996361e+01]\n",
      "  [ 8.91685468e+00  1.97516109e-01 -6.25712585e+00]\n",
      "  [-3.92873812e-02 -1.43180450e+00  1.86049576e+01]]\n",
      "\n",
      " ...\n",
      "\n",
      " [[-1.89525130e-01 -3.80571760e+00  3.21034927e+01]\n",
      "  [ 4.84437340e-01 -5.31059641e-01  5.96972122e+01]\n",
      "  [ 0.00000000e+00  0.00000000e+00  0.00000000e+00]\n",
      "  ...\n",
      "  [ 9.97770572e+00  1.76719847e+00 -5.10609360e+01]\n",
      "  [ 8.91454794e+00 -4.41702349e-01 -6.24793243e+00]\n",
      "  [-1.99799397e-01 -2.26206230e+00  1.85239410e+01]]\n",
      "\n",
      " [[-1.94303779e-01 -3.80838478e+00  3.21031342e+01]\n",
      "  [ 4.76274804e-01 -5.38137618e-01  5.96971741e+01]\n",
      "  [ 0.00000000e+00  0.00000000e+00  0.00000000e+00]\n",
      "  ...\n",
      "  [ 9.97749420e+00  1.76371397e+00 -5.10599518e+01]\n",
      "  [ 8.91499502e+00 -4.46160614e-01 -6.24697876e+00]\n",
      "  [-2.02813038e-01 -2.26261501e+00  1.85238342e+01]]\n",
      "\n",
      " [[-1.97901081e-01 -3.81133125e+00  3.21027756e+01]\n",
      "  [ 4.71408793e-01 -5.41083350e-01  5.96966476e+01]\n",
      "  [ 0.00000000e+00  0.00000000e+00  0.00000000e+00]\n",
      "  ...\n",
      "  [ 9.97503541e+00  1.75874734e+00 -5.10594139e+01]\n",
      "  [ 8.91544061e+00 -4.47946072e-01 -6.24622345e+00]\n",
      "  [-2.05040495e-01 -2.26443440e+00  1.85235825e+01]]]\n",
      "(3400, 17, 3)\n"
     ]
    }
   ],
   "source": [
    "# %load data_parser.py\n",
    "import os\n",
    "import json\n",
    "import numpy as np\n",
    "\n",
    "\n",
    "def get_data(file_dir):\n",
    "    \"\"\"\n",
    "    Will read JSON files from the provided file directory and subdirectories and return a list of dicts\n",
    "    :param file_dir: directory where to look for input JSON files\n",
    "    :return: list of dicts converted from JSON files\n",
    "    \"\"\"\n",
    "    print('Starting to read JAAD json files!')\n",
    "    json_list = []\n",
    "\n",
    "    for dirpath, dirnames, filenames in os.walk(file_dir):\n",
    "        JAAD_list = [pos_json for pos_json in filenames if pos_json.endswith('.json')]\n",
    "        for js in JAAD_list:\n",
    "            with open(os.path.join(dirpath, js)) as json_file:\n",
    "                json_list.append(json.load(json_file))\n",
    "\n",
    "    return json_list\n",
    "\n",
    "\n",
    "def get_data_TCG(file_dir: str) -> (np.ndarray, dict):\n",
    "    \"\"\"\n",
    "    Read in the TCG dataset and its annotation\n",
    "    :param file_dir: directory where data and annotations from TCG are stored\n",
    "    :return: Data as np array and annotations as dict\n",
    "    \"\"\"\n",
    "#     tcg_data = np.load(file_dir + 'tcg_data.npy', allow_pickle=True)\n",
    "    tcg_data = np.load('tcg_data.npy', allow_pickle=True)\n",
    "#     with open(file_dir + 'tcg.json') as json_file:\n",
    "    with open('tcg.json') as json_file:\n",
    "        tcg_json = json.load(json_file)\n",
    "\n",
    "    return tcg_data, tcg_json\n",
    "\n",
    "\n",
    "# get_data('../data/JAAD_output_JSON')\n",
    "\n",
    "# example usage\n",
    "tcg_d, tcg_j = get_data_TCG('../data/TCG/')\n",
    "print(len(tcg_d))\n",
    "print(tcg_j.keys())\n",
    "print(len(tcg_j['sequences']))\n",
    "print(tcg_d[0])\n",
    "print(tcg_d[0].shape)"
   ]
  },
  {
   "cell_type": "code",
   "execution_count": 3,
   "id": "8551dd0a",
   "metadata": {},
   "outputs": [
    {
     "data": {
      "text/plain": [
       "{'subject_id': 1,\n",
       " 'junction': 'T',\n",
       " 'scene_id': 1,\n",
       " 'scene_agents': [{'id': 1,\n",
       "   'position': 'right',\n",
       "   'intention': 'goes straight',\n",
       "   'queue': 1}],\n",
       " 'agent_number': 0,\n",
       " 'annotation': [['inactive', 'normal-pose', 0, 1045],\n",
       "  ['inactive', 'transition', 1045, 1112],\n",
       "  ['stop', 'both-static', 1112, 1461],\n",
       "  ['inactive', 'transition', 1461, 1573],\n",
       "  ['clear', 'right-static', 1573, 1818],\n",
       "  ['inactive', 'transition', 1818, 1951],\n",
       "  ['go', 'both-static', 1951, 2482],\n",
       "  ['inactive', 'transition', 2482, 2582],\n",
       "  ['inactive', 'normal-pose', 2582, 3400]],\n",
       " 'num_frames': 3400}"
      ]
     },
     "execution_count": 3,
     "metadata": {},
     "output_type": "execute_result"
    }
   ],
   "source": [
    "tcg_j['sequences'][0]"
   ]
  },
  {
   "cell_type": "code",
   "execution_count": 4,
   "id": "ab4844d7",
   "metadata": {},
   "outputs": [
    {
     "data": {
      "text/plain": [
       "(550,)"
      ]
     },
     "execution_count": 4,
     "metadata": {},
     "output_type": "execute_result"
    }
   ],
   "source": [
    "tcg_d.shape"
   ]
  },
  {
   "cell_type": "code",
   "execution_count": 5,
   "id": "2fe867c1",
   "metadata": {},
   "outputs": [
    {
     "data": {
      "text/plain": [
       "(3400, 17, 3)"
      ]
     },
     "execution_count": 5,
     "metadata": {},
     "output_type": "execute_result"
    }
   ],
   "source": [
    "tcg_d[0].shape"
   ]
  },
  {
   "cell_type": "code",
   "execution_count": 6,
   "id": "62bed6d2",
   "metadata": {},
   "outputs": [
    {
     "data": {
      "text/plain": [
       "numpy.ndarray"
      ]
     },
     "execution_count": 6,
     "metadata": {},
     "output_type": "execute_result"
    }
   ],
   "source": [
    "type(tcg_d[0])"
   ]
  },
  {
   "cell_type": "markdown",
   "id": "76dfc7f6",
   "metadata": {},
   "source": [
    "## Turn 3D data to Tensor"
   ]
  },
  {
   "cell_type": "code",
   "execution_count": 7,
   "id": "d4ff9e11",
   "metadata": {},
   "outputs": [],
   "source": [
    "import tensorflow as tf"
   ]
  },
  {
   "cell_type": "code",
   "execution_count": 8,
   "id": "a782252b",
   "metadata": {},
   "outputs": [],
   "source": [
    "tensor = tf.convert_to_tensor(tcg_d[0])"
   ]
  },
  {
   "cell_type": "code",
   "execution_count": 9,
   "id": "cc7cf429",
   "metadata": {},
   "outputs": [
    {
     "data": {
      "text/plain": [
       "<tf.Tensor: shape=(17, 3), dtype=float64, numpy=\n",
       "array([[-1.30057383e-01, -2.87529844e+00,  3.21951370e+01],\n",
       "       [ 1.01548117e-01, -8.05008894e-01,  5.99461899e+01],\n",
       "       [ 0.00000000e+00,  0.00000000e+00,  0.00000000e+00],\n",
       "       [-1.81141930e+01, -4.76216803e+00,  4.54645462e+01],\n",
       "       [-8.32693640e+00, -4.60900272e+00, -9.34862118e+01],\n",
       "       [-2.61315791e+01, -2.94570554e+00,  1.94638367e+01],\n",
       "       [-2.66918998e+01,  8.24862693e+00, -4.76636505e+00],\n",
       "       [-8.61236087e+00, -1.67471149e+00, -5.11175232e+01],\n",
       "       [-8.90253444e+00,  1.96905289e-01, -6.27750397e+00],\n",
       "       [-2.72291588e-01, -2.54413196e+00,  4.81910782e+01],\n",
       "       [ 1.74902343e+01, -5.56502342e+00,  4.61401901e+01],\n",
       "       [ 9.43912569e+00, -4.90395314e+00, -9.34419808e+01],\n",
       "       [ 2.44011154e+01, -3.01621366e+00,  1.98845596e+01],\n",
       "       [ 2.04294420e+01,  1.12028203e+01, -2.35897064e+00],\n",
       "       [ 9.12524309e+00, -1.62379413e+00, -5.10988693e+01],\n",
       "       [ 8.91745327e+00,  1.96904989e-01, -6.25629425e+00],\n",
       "       [-4.10138145e-02, -1.42855572e+00,  1.86052094e+01]])>"
      ]
     },
     "execution_count": 9,
     "metadata": {},
     "output_type": "execute_result"
    }
   ],
   "source": [
    "tensor[0]"
   ]
  },
  {
   "cell_type": "code",
   "execution_count": 10,
   "id": "c4ca168f",
   "metadata": {},
   "outputs": [],
   "source": [
    "lst=tcg_j['sequences'][0]['annotation']"
   ]
  },
  {
   "cell_type": "code",
   "execution_count": 11,
   "id": "5a194324",
   "metadata": {},
   "outputs": [
    {
     "data": {
      "text/plain": [
       "(3400,)"
      ]
     },
     "execution_count": 11,
     "metadata": {},
     "output_type": "execute_result"
    }
   ],
   "source": [
    "# inactive=0\n",
    "# stop=1\n",
    "# clear=2\n",
    "# go=3\n",
    "\n",
    "#create labels(y)\n",
    "y_all=[]\n",
    "for item in lst:\n",
    "    if item[0]=='inactive':\n",
    "        y_all.append('0'*(item[3]-item[2]))\n",
    "    elif item[0]=='stop':\n",
    "        y_all.append('1'*(item[3]-item[2]))\n",
    "    elif item[0]=='clear':\n",
    "        y_all.append('2'*(item[3]-item[2]))\n",
    "    elif item[0]=='go':\n",
    "        y_all.append('3'*(item[3]-item[2]))\n",
    "\n",
    "alle=''\n",
    "for i in y_all:\n",
    "    alle+=i\n",
    "\n",
    "lst_new=[int(char) for char in alle]\n",
    "label=np.array(lst_new)\n",
    "label.shape"
   ]
  },
  {
   "cell_type": "code",
   "execution_count": 12,
   "id": "7f8ada28",
   "metadata": {},
   "outputs": [
    {
     "data": {
      "text/plain": [
       "0"
      ]
     },
     "execution_count": 12,
     "metadata": {},
     "output_type": "execute_result"
    }
   ],
   "source": [
    "label[0]"
   ]
  },
  {
   "cell_type": "markdown",
   "id": "62aaacf0",
   "metadata": {},
   "source": [
    "## Create data"
   ]
  },
  {
   "cell_type": "code",
   "execution_count": 13,
   "id": "ad929d31",
   "metadata": {},
   "outputs": [],
   "source": [
    "import pandas as pd"
   ]
  },
  {
   "cell_type": "code",
   "execution_count": 14,
   "id": "b17ec0bd",
   "metadata": {},
   "outputs": [
    {
     "data": {
      "text/plain": [
       "<tf.Tensor: shape=(3400, 3), dtype=float64, numpy=\n",
       "array([[-0.13005738, -2.87529844, 32.19513702],\n",
       "       [-0.12810261, -2.87761379, 32.19493103],\n",
       "       [-0.12716572, -2.88150805, 32.19458008],\n",
       "       ...,\n",
       "       [-0.18952513, -3.8057176 , 32.10349274],\n",
       "       [-0.19430378, -3.80838478, 32.10313416],\n",
       "       [-0.19790108, -3.81133125, 32.10277557]])>"
      ]
     },
     "execution_count": 14,
     "metadata": {},
     "output_type": "execute_result"
    }
   ],
   "source": [
    "tensor[:,0]"
   ]
  },
  {
   "cell_type": "code",
   "execution_count": 15,
   "id": "46d15ee5",
   "metadata": {},
   "outputs": [
    {
     "data": {
      "text/html": [
       "<div>\n",
       "<style scoped>\n",
       "    .dataframe tbody tr th:only-of-type {\n",
       "        vertical-align: middle;\n",
       "    }\n",
       "\n",
       "    .dataframe tbody tr th {\n",
       "        vertical-align: top;\n",
       "    }\n",
       "\n",
       "    .dataframe thead th {\n",
       "        text-align: right;\n",
       "    }\n",
       "</style>\n",
       "<table border=\"1\" class=\"dataframe\">\n",
       "  <thead>\n",
       "    <tr style=\"text-align: right;\">\n",
       "      <th></th>\n",
       "      <th>Time</th>\n",
       "      <th>Label</th>\n",
       "    </tr>\n",
       "  </thead>\n",
       "  <tbody>\n",
       "    <tr>\n",
       "      <th>0</th>\n",
       "      <td>0</td>\n",
       "      <td>0</td>\n",
       "    </tr>\n",
       "    <tr>\n",
       "      <th>1</th>\n",
       "      <td>1</td>\n",
       "      <td>0</td>\n",
       "    </tr>\n",
       "    <tr>\n",
       "      <th>2</th>\n",
       "      <td>2</td>\n",
       "      <td>0</td>\n",
       "    </tr>\n",
       "    <tr>\n",
       "      <th>3</th>\n",
       "      <td>3</td>\n",
       "      <td>0</td>\n",
       "    </tr>\n",
       "    <tr>\n",
       "      <th>4</th>\n",
       "      <td>4</td>\n",
       "      <td>0</td>\n",
       "    </tr>\n",
       "    <tr>\n",
       "      <th>...</th>\n",
       "      <td>...</td>\n",
       "      <td>...</td>\n",
       "    </tr>\n",
       "    <tr>\n",
       "      <th>3395</th>\n",
       "      <td>3395</td>\n",
       "      <td>0</td>\n",
       "    </tr>\n",
       "    <tr>\n",
       "      <th>3396</th>\n",
       "      <td>3396</td>\n",
       "      <td>0</td>\n",
       "    </tr>\n",
       "    <tr>\n",
       "      <th>3397</th>\n",
       "      <td>3397</td>\n",
       "      <td>0</td>\n",
       "    </tr>\n",
       "    <tr>\n",
       "      <th>3398</th>\n",
       "      <td>3398</td>\n",
       "      <td>0</td>\n",
       "    </tr>\n",
       "    <tr>\n",
       "      <th>3399</th>\n",
       "      <td>3399</td>\n",
       "      <td>0</td>\n",
       "    </tr>\n",
       "  </tbody>\n",
       "</table>\n",
       "<p>3400 rows × 2 columns</p>\n",
       "</div>"
      ],
      "text/plain": [
       "      Time  Label\n",
       "0        0      0\n",
       "1        1      0\n",
       "2        2      0\n",
       "3        3      0\n",
       "4        4      0\n",
       "...    ...    ...\n",
       "3395  3395      0\n",
       "3396  3396      0\n",
       "3397  3397      0\n",
       "3398  3398      0\n",
       "3399  3399      0\n",
       "\n",
       "[3400 rows x 2 columns]"
      ]
     },
     "execution_count": 15,
     "metadata": {},
     "output_type": "execute_result"
    }
   ],
   "source": [
    "time = np.arange(0, 3400, 1)\n",
    "#label\n",
    "data = pd.DataFrame({'Time': time, 'Label': label})\n",
    "data\n",
    "#can't insert 3d tensor,dataframe only accept 1 dimension data"
   ]
  },
  {
   "cell_type": "markdown",
   "id": "af1ff628",
   "metadata": {},
   "source": [
    "## split train and test data"
   ]
  },
  {
   "cell_type": "code",
   "execution_count": 16,
   "id": "2b5e71b0",
   "metadata": {},
   "outputs": [],
   "source": [
    "transposed_tensor = tf.transpose(tensor, perm=[1, 0, 2])"
   ]
  },
  {
   "cell_type": "code",
   "execution_count": 17,
   "id": "9d3178e3",
   "metadata": {},
   "outputs": [
    {
     "data": {
      "text/plain": [
       "<tf.Tensor: shape=(3, 3400, 17), dtype=float64, numpy=\n",
       "array([[[-1.30057383e-01,  1.01548117e-01,  0.00000000e+00, ...,\n",
       "          9.12524309e+00,  8.91745327e+00, -4.10138145e-02],\n",
       "        [-2.87529844e+00, -8.05008894e-01,  0.00000000e+00, ...,\n",
       "         -1.62379413e+00,  1.96904989e-01, -1.42855572e+00],\n",
       "        [ 3.21951370e+01,  5.99461899e+01,  0.00000000e+00, ...,\n",
       "         -5.10988693e+01, -6.25629425e+00,  1.86052094e+01],\n",
       "        ...,\n",
       "        [-1.78855655e+00, -1.85755415e+00,  0.00000000e+00, ...,\n",
       "          1.61321673e+01,  9.29118534e+00, -1.22030473e+00],\n",
       "        [ 3.22663345e+01,  6.00353012e+01,  0.00000000e+00, ...,\n",
       "         -4.97970924e+01, -5.61256409e+00,  1.86197891e+01],\n",
       "        [ 5.83019354e-01, -1.94702834e+00,  0.00000000e+00, ...,\n",
       "         -2.90045091e+00,  8.88809128e-01,  8.16196098e-02]],\n",
       "\n",
       "       [[-1.84105034e+00, -2.02820941e+00,  0.00000000e+00, ...,\n",
       "          1.60312219e+01,  9.29954963e+00, -1.23943581e+00],\n",
       "        [ 3.22629776e+01,  6.00355911e+01,  0.00000000e+00, ...,\n",
       "         -4.98163834e+01, -5.60619354e+00,  1.86184387e+01],\n",
       "        [ 6.06330712e-01, -1.87704824e+00,  0.00000000e+00, ...,\n",
       "         -2.83360046e+00,  8.46448082e-01,  8.87656119e-02],\n",
       "        ...,\n",
       "        [ 3.22391739e+01,  6.00663834e+01,  0.00000000e+00, ...,\n",
       "         -5.12232475e+01, -6.36695862e+00,  1.86336975e+01],\n",
       "        [ 1.54183927e-01,  6.72583111e-01,  0.00000000e+00, ...,\n",
       "         -1.00917873e+01, -8.65194393e+00,  2.78349244e-03],\n",
       "        [ 2.25875163e+00,  1.13063196e+00,  0.00000000e+00, ...,\n",
       "          2.05351650e+00,  1.81937937e+00,  9.70658003e-01]],\n",
       "\n",
       "       [[ 3.22389603e+01,  6.00656967e+01,  0.00000000e+00, ...,\n",
       "         -5.12229767e+01, -6.36669159e+00,  1.86336288e+01],\n",
       "        [ 1.53990537e-01,  6.89688961e-01,  0.00000000e+00, ...,\n",
       "         -1.00887384e+01, -8.65205164e+00,  2.91347928e-03],\n",
       "        [ 2.26199638e+00,  1.14350681e+00,  0.00000000e+00, ...,\n",
       "          2.05229857e+00,  1.81846412e+00,  9.72773757e-01],\n",
       "        ...,\n",
       "        [-1.97901081e-01,  4.71408793e-01,  0.00000000e+00, ...,\n",
       "          9.97503541e+00,  8.91544061e+00, -2.05040495e-01],\n",
       "        [-3.81133125e+00, -5.41083350e-01,  0.00000000e+00, ...,\n",
       "          1.75874734e+00, -4.47946072e-01, -2.26443440e+00],\n",
       "        [ 3.21027756e+01,  5.96966476e+01,  0.00000000e+00, ...,\n",
       "         -5.10594139e+01, -6.24622345e+00,  1.85235825e+01]]])>"
      ]
     },
     "execution_count": 17,
     "metadata": {},
     "output_type": "execute_result"
    }
   ],
   "source": [
    "reshaped_data = tf.transpose(tensor,perm=[0,2,1])\n",
    "reshaped_data = tf.reshape(reshaped_data,shape=(-1,3400,17))\n",
    "reshaped_data"
   ]
  },
  {
   "cell_type": "code",
   "execution_count": 18,
   "id": "7f9955d2",
   "metadata": {},
   "outputs": [],
   "source": [
    "from sklearn.preprocessing import MinMaxScaler"
   ]
  },
  {
   "cell_type": "code",
   "execution_count": 19,
   "id": "60264609",
   "metadata": {},
   "outputs": [
    {
     "data": {
      "text/plain": [
       "(3400, 17, 3)"
      ]
     },
     "execution_count": 19,
     "metadata": {},
     "output_type": "execute_result"
    }
   ],
   "source": [
    "arr=np.array(tensor)\n",
    "arr.shape"
   ]
  },
  {
   "cell_type": "code",
   "execution_count": 20,
   "id": "8559cd14",
   "metadata": {},
   "outputs": [],
   "source": [
    "mean,var=tf.nn.moments(tensor,axes=[0,1,2])\n",
    "normalized_tensor=(tensor-mean)/tf.sqrt(var)"
   ]
  },
  {
   "cell_type": "code",
   "execution_count": 21,
   "id": "dc0cfeca",
   "metadata": {},
   "outputs": [
    {
     "data": {
      "text/plain": [
       "<tf.Tensor: shape=(3400, 17, 3), dtype=float64, numpy=\n",
       "array([[[-0.04086399, -0.13156191,  1.02710335],\n",
       "        [-0.03321215, -0.06316319,  1.94394913],\n",
       "        [-0.03656712, -0.03656712, -0.03656712],\n",
       "        ...,\n",
       "        [ 0.2649148 , -0.09021441, -1.72478353],\n",
       "        [ 0.25804979, -0.03006173, -0.24326404],\n",
       "        [-0.03792215, -0.08376408,  0.57811614]],\n",
       "\n",
       "       [[-0.04079941, -0.1316384 ,  1.02709655],\n",
       "        [-0.0331946 , -0.06327763,  1.94394132],\n",
       "        [-0.03656712, -0.03656712, -0.03656712],\n",
       "        ...,\n",
       "        [ 0.26474489, -0.09014631, -1.7248129 ],\n",
       "        [ 0.25803265, -0.03008149, -0.24328899],\n",
       "        [-0.03787764, -0.08379899,  0.57811337]],\n",
       "\n",
       "       [[-0.04076845, -0.13176706,  1.02708495],\n",
       "        [-0.033185  , -0.06342583,  1.9439262 ],\n",
       "        [-0.03656712, -0.03656712, -0.03656712],\n",
       "        ...,\n",
       "        [ 0.26484332, -0.09025373, -1.72480886],\n",
       "        [ 0.25803001, -0.03004154, -0.24329151],\n",
       "        [-0.03786511, -0.08387141,  0.57810782]],\n",
       "\n",
       "       ...,\n",
       "\n",
       "       [[-0.0428287 , -0.16230131,  1.02407559],\n",
       "        [-0.02056217, -0.0541124 ,  1.93572335],\n",
       "        [-0.03656712, -0.03656712, -0.03656712],\n",
       "        ...,\n",
       "        [ 0.29307866,  0.02181799, -1.72353028],\n",
       "        [ 0.2579538 , -0.05116019, -0.24298778],\n",
       "        [-0.04316814, -0.11130167,  0.57543118]],\n",
       "\n",
       "       [[-0.04298658, -0.16238943,  1.02406374],\n",
       "        [-0.02083184, -0.05434624,  1.93572209],\n",
       "        [-0.03656712, -0.03656712, -0.03656712],\n",
       "        ...,\n",
       "        [ 0.29307167,  0.02170287, -1.72349776],\n",
       "        [ 0.25796857, -0.05130748, -0.24295627],\n",
       "        [-0.04326771, -0.11131993,  0.57542765]],\n",
       "\n",
       "       [[-0.04310542, -0.16248678,  1.02405189],\n",
       "        [-0.02099261, -0.05444356,  1.9357047 ],\n",
       "        [-0.03656712, -0.03656712, -0.03656712],\n",
       "        ...,\n",
       "        [ 0.29299043,  0.02153878, -1.72347999],\n",
       "        [ 0.25798329, -0.05136647, -0.24293132],\n",
       "        [-0.0433413 , -0.11138004,  0.57541933]]])>"
      ]
     },
     "execution_count": 21,
     "metadata": {},
     "output_type": "execute_result"
    }
   ],
   "source": [
    "normalized_tensor"
   ]
  },
  {
   "cell_type": "code",
   "execution_count": 22,
   "id": "9f9a4548",
   "metadata": {},
   "outputs": [],
   "source": [
    "x_tr=normalized_tensor[:2482]\n",
    "x_te=normalized_tensor[2482:]\n",
    "y_tr=label[:2482]\n",
    "y_te=label[2482:]"
   ]
  },
  {
   "cell_type": "code",
   "execution_count": 23,
   "id": "62bf94d7",
   "metadata": {},
   "outputs": [
    {
     "data": {
      "text/plain": [
       "TensorShape([2482, 17, 3])"
      ]
     },
     "execution_count": 23,
     "metadata": {},
     "output_type": "execute_result"
    }
   ],
   "source": [
    "x_tr.shape"
   ]
  },
  {
   "cell_type": "markdown",
   "id": "41a295ed",
   "metadata": {},
   "source": [
    "### y --> onehot coding"
   ]
  },
  {
   "cell_type": "code",
   "execution_count": 24,
   "id": "62405b21",
   "metadata": {},
   "outputs": [],
   "source": [
    "# uniq=np.unique(label)\n",
    "# sorted_v=np.sort(uniq)\n",
    "# one_hot=np.zeros((len(label),len(sorted_v)))\n",
    "# for i,v in enumerate(label):\n",
    "#     index=np.where(sorted_v==v)[0][0]\n",
    "#     one_hot[i,index]=1\n",
    "# # print(one_hot)\n",
    "# y_tr=one_hot[:2482]\n",
    "# y_te=one_hot[2482:]"
   ]
  },
  {
   "cell_type": "code",
   "execution_count": null,
   "id": "15c4a39d",
   "metadata": {},
   "outputs": [],
   "source": []
  },
  {
   "cell_type": "markdown",
   "id": "8cd6e1d2",
   "metadata": {},
   "source": [
    "## attention+LSTM"
   ]
  },
  {
   "cell_type": "code",
   "execution_count": 84,
   "id": "7f846843",
   "metadata": {},
   "outputs": [
    {
     "name": "stdout",
     "output_type": "stream",
     "text": [
      "Epoch 1/10\n",
      "78/78 [==============================] - 2s 7ms/step - loss: 1.5430 - accuracy: 0.5737\n",
      "Epoch 2/10\n",
      "78/78 [==============================] - 1s 7ms/step - loss: 1.1988 - accuracy: 0.6127\n",
      "Epoch 3/10\n",
      "78/78 [==============================] - 1s 7ms/step - loss: 1.0505 - accuracy: 0.6198\n",
      "Epoch 4/10\n",
      "78/78 [==============================] - 1s 8ms/step - loss: 0.9298 - accuracy: 0.6222\n",
      "Epoch 5/10\n",
      "78/78 [==============================] - 1s 7ms/step - loss: 0.8344 - accuracy: 0.6222\n",
      "Epoch 6/10\n",
      "78/78 [==============================] - 1s 7ms/step - loss: 0.7607 - accuracy: 0.6196\n",
      "Epoch 7/10\n",
      "78/78 [==============================] - 1s 7ms/step - loss: 0.6851 - accuracy: 0.6221\n",
      "Epoch 8/10\n",
      "78/78 [==============================] - 1s 8ms/step - loss: 0.6253 - accuracy: 0.6231\n",
      "Epoch 9/10\n",
      "78/78 [==============================] - 1s 8ms/step - loss: 0.5738 - accuracy: 0.6258\n",
      "Epoch 10/10\n",
      "78/78 [==============================] - 1s 8ms/step - loss: 0.5337 - accuracy: 0.6232\n"
     ]
    }
   ],
   "source": [
    "from tensorflow.keras import layers\n",
    "from tensorflow import keras\n",
    "from tensorflow.keras.layers import LSTM, Dense,Input,Attention\n",
    "\n",
    "# define model\n",
    "timesteps=2482\n",
    "features=17\n",
    "coordinate_values=3\n",
    "inputs=layers.Input(shape=(features,coordinate_values))\n",
    "lstm_output=layers.LSTM(64,return_sequences=True)(inputs)\n",
    "attention=layers.Attention()([lstm_output,lstm_output])\n",
    "dense_output=layers.Dense(1,activation='tanh')(attention)#full connect layer\n",
    "output=layers.Dense(1,activation='linear')(dense_output)\n",
    "\n",
    "model=keras.Model(inputs=inputs,outputs=output)\n",
    "# compile model\n",
    "model.compile(optimizer='adam', loss='mean_squared_error',metrics=['accuracy'])\n",
    "\n",
    "# train model\n",
    "model.fit(x_tr, y_tr, epochs=10, batch_size=32) \n",
    "\n",
    "# prediction\n",
    "predictions = model.predict(x_te)\n",
    "\n"
   ]
  },
  {
   "cell_type": "code",
   "execution_count": 85,
   "id": "61ceaa0c",
   "metadata": {},
   "outputs": [],
   "source": [
    "pred_reshape=predictions.reshape(918,17)"
   ]
  },
  {
   "cell_type": "code",
   "execution_count": 86,
   "id": "3db63352",
   "metadata": {},
   "outputs": [
    {
     "data": {
      "text/plain": [
       "array([ 0.03363019,  0.05291569,  0.04780364,  0.04439783,  0.00268024,\n",
       "       -0.02204889, -0.04476422, -0.06362069, -0.07596916, -0.0692277 ,\n",
       "       -0.04689515, -0.04991657, -0.03217894, -0.01550287, -0.01651126,\n",
       "       -0.0100829 , -0.00288033], dtype=float32)"
      ]
     },
     "execution_count": 86,
     "metadata": {},
     "output_type": "execute_result"
    }
   ],
   "source": [
    "pred_reshape[917]"
   ]
  },
  {
   "cell_type": "code",
   "execution_count": 87,
   "id": "2ef04519",
   "metadata": {},
   "outputs": [
    {
     "data": {
      "text/plain": [
       "(918, 17)"
      ]
     },
     "execution_count": 87,
     "metadata": {},
     "output_type": "execute_result"
    }
   ],
   "source": [
    "pred_reshape.shape"
   ]
  },
  {
   "cell_type": "code",
   "execution_count": 88,
   "id": "38172aab",
   "metadata": {},
   "outputs": [
    {
     "data": {
      "text/plain": [
       "(918,)"
      ]
     },
     "execution_count": 88,
     "metadata": {},
     "output_type": "execute_result"
    }
   ],
   "source": [
    "labels=np.max(pred_reshape,axis=1)\n",
    "labels.shape"
   ]
  },
  {
   "cell_type": "code",
   "execution_count": 89,
   "id": "a196de7b",
   "metadata": {},
   "outputs": [
    {
     "data": {
      "text/plain": [
       "(918, 17, 1)"
      ]
     },
     "execution_count": 89,
     "metadata": {},
     "output_type": "execute_result"
    }
   ],
   "source": [
    "predictions.shape"
   ]
  },
  {
   "cell_type": "code",
   "execution_count": 90,
   "id": "b111f926",
   "metadata": {},
   "outputs": [
    {
     "data": {
      "text/plain": [
       "array([0, 0, 0, 0, 0, 0, 0, 0, 0, 0])"
      ]
     },
     "execution_count": 90,
     "metadata": {},
     "output_type": "execute_result"
    }
   ],
   "source": [
    "round_pred=np.round(labels).astype(int)\n",
    "round_pred[-10:]"
   ]
  },
  {
   "cell_type": "code",
   "execution_count": null,
   "id": "efb81a75",
   "metadata": {},
   "outputs": [],
   "source": []
  }
 ],
 "metadata": {
  "kernelspec": {
   "display_name": "Python 3 (ipykernel)",
   "language": "python",
   "name": "python3"
  },
  "language_info": {
   "codemirror_mode": {
    "name": "ipython",
    "version": 3
   },
   "file_extension": ".py",
   "mimetype": "text/x-python",
   "name": "python",
   "nbconvert_exporter": "python",
   "pygments_lexer": "ipython3",
   "version": "3.9.7"
  }
 },
 "nbformat": 4,
 "nbformat_minor": 5
}
