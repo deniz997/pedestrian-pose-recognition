{
 "cells": [
  {
   "cell_type": "code",
   "execution_count": 1,
   "metadata": {
    "collapsed": true,
    "ExecuteTime": {
     "end_time": "2023-07-03T15:14:00.690476700Z",
     "start_time": "2023-07-03T15:13:54.807781900Z"
    }
   },
   "outputs": [],
   "source": [
    "import numpy as np\n",
    "import pandas as pd\n",
    "import sklearn.metrics as metrics\n",
    "from scipy import sparse\n",
    "from sklearn.ensemble import RandomForestClassifier\n",
    "from sklearn.model_selection import train_test_split\n",
    "from sklearn.svm import SVC\n",
    "from skmultilearn.problem_transform import BinaryRelevance, ClassifierChain\n",
    "\n",
    "from model.data_parser import convert_jaad_dict_to_df, get_data"
   ]
  },
  {
   "cell_type": "code",
   "execution_count": 2,
   "outputs": [
    {
     "name": "stdout",
     "output_type": "stream",
     "text": [
      "Starting to read JAAD json files!\n"
     ]
    }
   ],
   "source": [
    "#Load data\n",
    "data_dir = \"C:/Users/max00/Documents/PoseRecognition/pedestrian-pose-recognition/data/JAAD_JSON_Labels/\"\n",
    "\n",
    "X, Y = convert_jaad_dict_to_df(get_data(data_dir))\n",
    "\n",
    "# Split the data into training and testing sets\n",
    "X_train, X_test, Y_train, Y_test = train_test_split(X, Y, test_size=0.2, random_state=42)\n",
    "sp_X_train = sparse.lil_matrix(X_train.values)\n",
    "sp_Y_train = sparse.lil_matrix(Y_train.values)\n",
    "sp_X_test = sparse.csr_matrix(X_test.values)\n",
    "sp_Y_test = sparse.csr_matrix(Y_test.values)"
   ],
   "metadata": {
    "collapsed": false,
    "ExecuteTime": {
     "end_time": "2023-07-03T15:14:49.314643300Z",
     "start_time": "2023-07-03T15:14:05.570539900Z"
    }
   }
  },
  {
   "cell_type": "markdown",
   "source": [
    "# Random forest"
   ],
   "metadata": {
    "collapsed": false
   }
  },
  {
   "cell_type": "code",
   "execution_count": 13,
   "outputs": [
    {
     "name": "stdout",
     "output_type": "stream",
     "text": [
      "0.04928611760909898\n",
      "0.8362507058159232\n"
     ]
    }
   ],
   "source": [
    "classifier = ClassifierChain(\n",
    "        classifier=RandomForestClassifier(n_estimators=100),\n",
    "        require_dense=[False, True]\n",
    "    )\n",
    "\n",
    "classifier.fit(sp_X_train, sp_Y_train)\n",
    "# predict\n",
    "predictions = classifier.predict(sp_X_test)\n",
    "\n",
    "print(metrics.hamming_loss(sp_Y_test, predictions))\n",
    "print(metrics.accuracy_score(sp_Y_test, predictions))"
   ],
   "metadata": {
    "collapsed": false,
    "ExecuteTime": {
     "end_time": "2023-06-27T15:14:06.816859100Z",
     "start_time": "2023-06-27T15:05:43.023493400Z"
    }
   }
  },
  {
   "cell_type": "code",
   "execution_count": 16,
   "outputs": [
    {
     "name": "stdout",
     "output_type": "stream",
     "text": [
      "0.04839880616278132\n",
      "0.8384286520932483\n"
     ]
    },
    {
     "ename": "TypeError",
     "evalue": "len() of unsized object",
     "output_type": "error",
     "traceback": [
      "\u001B[1;31m---------------------------------------------------------------------------\u001B[0m",
      "\u001B[1;31mTypeError\u001B[0m                                 Traceback (most recent call last)",
      "Cell \u001B[1;32mIn[16], line 7\u001B[0m\n\u001B[0;32m      5\u001B[0m i\u001B[38;5;241m=\u001B[39m\u001B[38;5;241m0\u001B[39m\n\u001B[0;32m      6\u001B[0m \u001B[38;5;28;01mfor\u001B[39;00m col \u001B[38;5;129;01min\u001B[39;00m Y_test\u001B[38;5;241m.\u001B[39mcolumns:\n\u001B[1;32m----> 7\u001B[0m     \u001B[38;5;28mprint\u001B[39m(col \u001B[38;5;241m+\u001B[39m \u001B[38;5;124m\"\u001B[39m\u001B[38;5;124m accury:\u001B[39m\u001B[38;5;124m\"\u001B[39m \u001B[38;5;241m+\u001B[39m \u001B[43mmetrics\u001B[49m\u001B[38;5;241;43m.\u001B[39;49m\u001B[43maccuracy_score\u001B[49m\u001B[43m(\u001B[49m\u001B[43mY_test\u001B[49m\u001B[43m[\u001B[49m\u001B[43mcol\u001B[49m\u001B[43m]\u001B[49m\u001B[43m,\u001B[49m\u001B[43m \u001B[49m\u001B[43mpredictions\u001B[49m\u001B[43m[\u001B[49m\u001B[43m:\u001B[49m\u001B[43m,\u001B[49m\u001B[43mi\u001B[49m\u001B[43m]\u001B[49m\u001B[43m)\u001B[49m )\n\u001B[0;32m      8\u001B[0m     i \u001B[38;5;241m+\u001B[39m\u001B[38;5;241m=\u001B[39m \u001B[38;5;241m1\u001B[39m\n",
      "File \u001B[1;32m~\\Documents\\PoseRecognition\\pedestrian-pose-recognition\\venv\\lib\\site-packages\\sklearn\\utils\\validation.py:63\u001B[0m, in \u001B[0;36m_deprecate_positional_args.<locals>._inner_deprecate_positional_args.<locals>.inner_f\u001B[1;34m(*args, **kwargs)\u001B[0m\n\u001B[0;32m     61\u001B[0m extra_args \u001B[38;5;241m=\u001B[39m \u001B[38;5;28mlen\u001B[39m(args) \u001B[38;5;241m-\u001B[39m \u001B[38;5;28mlen\u001B[39m(all_args)\n\u001B[0;32m     62\u001B[0m \u001B[38;5;28;01mif\u001B[39;00m extra_args \u001B[38;5;241m<\u001B[39m\u001B[38;5;241m=\u001B[39m \u001B[38;5;241m0\u001B[39m:\n\u001B[1;32m---> 63\u001B[0m     \u001B[38;5;28;01mreturn\u001B[39;00m f(\u001B[38;5;241m*\u001B[39margs, \u001B[38;5;241m*\u001B[39m\u001B[38;5;241m*\u001B[39mkwargs)\n\u001B[0;32m     65\u001B[0m \u001B[38;5;66;03m# extra_args > 0\u001B[39;00m\n\u001B[0;32m     66\u001B[0m args_msg \u001B[38;5;241m=\u001B[39m [\u001B[38;5;124m'\u001B[39m\u001B[38;5;132;01m{}\u001B[39;00m\u001B[38;5;124m=\u001B[39m\u001B[38;5;132;01m{}\u001B[39;00m\u001B[38;5;124m'\u001B[39m\u001B[38;5;241m.\u001B[39mformat(name, arg)\n\u001B[0;32m     67\u001B[0m             \u001B[38;5;28;01mfor\u001B[39;00m name, arg \u001B[38;5;129;01min\u001B[39;00m \u001B[38;5;28mzip\u001B[39m(kwonly_args[:extra_args],\n\u001B[0;32m     68\u001B[0m                                  args[\u001B[38;5;241m-\u001B[39mextra_args:])]\n",
      "File \u001B[1;32m~\\Documents\\PoseRecognition\\pedestrian-pose-recognition\\venv\\lib\\site-packages\\sklearn\\metrics\\_classification.py:202\u001B[0m, in \u001B[0;36maccuracy_score\u001B[1;34m(y_true, y_pred, normalize, sample_weight)\u001B[0m\n\u001B[0;32m    142\u001B[0m \u001B[38;5;250m\u001B[39m\u001B[38;5;124;03m\"\"\"Accuracy classification score.\u001B[39;00m\n\u001B[0;32m    143\u001B[0m \n\u001B[0;32m    144\u001B[0m \u001B[38;5;124;03mIn multilabel classification, this function computes subset accuracy:\u001B[39;00m\n\u001B[1;32m   (...)\u001B[0m\n\u001B[0;32m    198\u001B[0m \u001B[38;5;124;03m0.5\u001B[39;00m\n\u001B[0;32m    199\u001B[0m \u001B[38;5;124;03m\"\"\"\u001B[39;00m\n\u001B[0;32m    201\u001B[0m \u001B[38;5;66;03m# Compute accuracy for each possible representation\u001B[39;00m\n\u001B[1;32m--> 202\u001B[0m y_type, y_true, y_pred \u001B[38;5;241m=\u001B[39m \u001B[43m_check_targets\u001B[49m\u001B[43m(\u001B[49m\u001B[43my_true\u001B[49m\u001B[43m,\u001B[49m\u001B[43m \u001B[49m\u001B[43my_pred\u001B[49m\u001B[43m)\u001B[49m\n\u001B[0;32m    203\u001B[0m check_consistent_length(y_true, y_pred, sample_weight)\n\u001B[0;32m    204\u001B[0m \u001B[38;5;28;01mif\u001B[39;00m y_type\u001B[38;5;241m.\u001B[39mstartswith(\u001B[38;5;124m'\u001B[39m\u001B[38;5;124mmultilabel\u001B[39m\u001B[38;5;124m'\u001B[39m):\n",
      "File \u001B[1;32m~\\Documents\\PoseRecognition\\pedestrian-pose-recognition\\venv\\lib\\site-packages\\sklearn\\metrics\\_classification.py:85\u001B[0m, in \u001B[0;36m_check_targets\u001B[1;34m(y_true, y_pred)\u001B[0m\n\u001B[0;32m     83\u001B[0m check_consistent_length(y_true, y_pred)\n\u001B[0;32m     84\u001B[0m type_true \u001B[38;5;241m=\u001B[39m type_of_target(y_true)\n\u001B[1;32m---> 85\u001B[0m type_pred \u001B[38;5;241m=\u001B[39m \u001B[43mtype_of_target\u001B[49m\u001B[43m(\u001B[49m\u001B[43my_pred\u001B[49m\u001B[43m)\u001B[49m\n\u001B[0;32m     87\u001B[0m y_type \u001B[38;5;241m=\u001B[39m {type_true, type_pred}\n\u001B[0;32m     88\u001B[0m \u001B[38;5;28;01mif\u001B[39;00m y_type \u001B[38;5;241m==\u001B[39m {\u001B[38;5;124m\"\u001B[39m\u001B[38;5;124mbinary\u001B[39m\u001B[38;5;124m\"\u001B[39m, \u001B[38;5;124m\"\u001B[39m\u001B[38;5;124mmulticlass\u001B[39m\u001B[38;5;124m\"\u001B[39m}:\n",
      "File \u001B[1;32m~\\Documents\\PoseRecognition\\pedestrian-pose-recognition\\venv\\lib\\site-packages\\sklearn\\utils\\multiclass.py:288\u001B[0m, in \u001B[0;36mtype_of_target\u001B[1;34m(y)\u001B[0m\n\u001B[0;32m    285\u001B[0m     \u001B[38;5;28;01mpass\u001B[39;00m\n\u001B[0;32m    287\u001B[0m \u001B[38;5;66;03m# Invalid inputs\u001B[39;00m\n\u001B[1;32m--> 288\u001B[0m \u001B[38;5;28;01mif\u001B[39;00m y\u001B[38;5;241m.\u001B[39mndim \u001B[38;5;241m>\u001B[39m \u001B[38;5;241m2\u001B[39m \u001B[38;5;129;01mor\u001B[39;00m (y\u001B[38;5;241m.\u001B[39mdtype \u001B[38;5;241m==\u001B[39m \u001B[38;5;28mobject\u001B[39m \u001B[38;5;129;01mand\u001B[39;00m \u001B[38;5;28;43mlen\u001B[39;49m\u001B[43m(\u001B[49m\u001B[43my\u001B[49m\u001B[43m)\u001B[49m \u001B[38;5;129;01mand\u001B[39;00m\n\u001B[0;32m    289\u001B[0m                   \u001B[38;5;129;01mnot\u001B[39;00m \u001B[38;5;28misinstance\u001B[39m(y\u001B[38;5;241m.\u001B[39mflat[\u001B[38;5;241m0\u001B[39m], \u001B[38;5;28mstr\u001B[39m)):\n\u001B[0;32m    290\u001B[0m     \u001B[38;5;28;01mreturn\u001B[39;00m \u001B[38;5;124m'\u001B[39m\u001B[38;5;124munknown\u001B[39m\u001B[38;5;124m'\u001B[39m  \u001B[38;5;66;03m# [[[1, 2]]] or [obj_1] and not [\"label_1\"]\u001B[39;00m\n\u001B[0;32m    292\u001B[0m \u001B[38;5;28;01mif\u001B[39;00m y\u001B[38;5;241m.\u001B[39mndim \u001B[38;5;241m==\u001B[39m \u001B[38;5;241m2\u001B[39m \u001B[38;5;129;01mand\u001B[39;00m y\u001B[38;5;241m.\u001B[39mshape[\u001B[38;5;241m1\u001B[39m] \u001B[38;5;241m==\u001B[39m \u001B[38;5;241m0\u001B[39m:\n",
      "\u001B[1;31mTypeError\u001B[0m: len() of unsized object"
     ]
    }
   ],
   "source": [
    "classifier.fit(X_train, Y_train)\n",
    "predictions = classifier.predict(X_test)\n",
    "df = pd.DataFrame.sparse.from_spmatrix(predictions)"
   ],
   "metadata": {
    "collapsed": false,
    "ExecuteTime": {
     "end_time": "2023-06-27T15:35:31.155011100Z",
     "start_time": "2023-06-27T15:28:20.521876500Z"
    }
   }
  },
  {
   "cell_type": "code",
   "execution_count": 28,
   "outputs": [
    {
     "name": "stdout",
     "output_type": "stream",
     "text": [
      "0.04839880616278132\n",
      "0.8384286520932483\n",
      "look accury:\n",
      "0.9244171977091232\n",
      "action accury:\n",
      "0.9409534564814068\n",
      "cross accury:\n",
      "0.8945712672420747\n",
      "hand_gesture accury:\n",
      "0.9983867064612406\n",
      "nod accury:\n",
      "0.9996773412922482\n"
     ]
    }
   ],
   "source": [
    "print(metrics.hamming_loss(Y_test, df))\n",
    "print(metrics.accuracy_score(Y_test, df))\n",
    "i=0\n",
    "for col in df:\n",
    "    df = df.rename(columns={col: str(int(col))})\n",
    "for col in Y_test.columns:\n",
    "    print(col + \" accury:\")\n",
    "    print(metrics.accuracy_score(Y_test[col], df[str(i)]) )\n",
    "    i += 1"
   ],
   "metadata": {
    "collapsed": false,
    "ExecuteTime": {
     "end_time": "2023-06-27T15:42:05.959389500Z",
     "start_time": "2023-06-27T15:42:05.910382Z"
    }
   }
  },
  {
   "cell_type": "markdown",
   "source": [
    "# BinaryRelevance"
   ],
   "metadata": {
    "collapsed": false
   }
  },
  {
   "cell_type": "code",
   "execution_count": null,
   "outputs": [],
   "source": [
    "clf = BinaryRelevance(\n",
    "        classifier=SVC(),\n",
    "        require_dense=[False, True]\n",
    "    )\n",
    "\n",
    "clf.fit(sp_X_train, sp_Y_train)\n",
    "prediction = clf.predict(sp_X_test)\n",
    "\n",
    "\n",
    "print(metrics.hamming_loss(sp_Y_test, prediction))\n",
    "print(metrics.accuracy_score(sp_Y_test, prediction))"
   ],
   "metadata": {
    "collapsed": false
   }
  },
  {
   "cell_type": "markdown",
   "source": [
    "# LSTM"
   ],
   "metadata": {
    "collapsed": false
   }
  },
  {
   "cell_type": "code",
   "execution_count": 3,
   "outputs": [],
   "source": [
    "from tensorflow import keras\n",
    "from keras.models import Sequential\n",
    "from keras.layers import LSTM, Dense,Input"
   ],
   "metadata": {
    "collapsed": false,
    "ExecuteTime": {
     "end_time": "2023-07-03T15:15:39.639925400Z",
     "start_time": "2023-07-03T15:15:27.757009800Z"
    }
   }
  },
  {
   "cell_type": "code",
   "execution_count": 4,
   "outputs": [
    {
     "name": "stdout",
     "output_type": "stream",
     "text": [
      "Epoch 1/11\n",
      "1550/1550 [==============================] - 30s 17ms/step - loss: 0.1700 - accuracy: 0.8023\n",
      "Epoch 2/11\n",
      "1550/1550 [==============================] - 27s 18ms/step - loss: 0.1557 - accuracy: 0.8023\n",
      "Epoch 3/11\n",
      "1550/1550 [==============================] - 30s 20ms/step - loss: 0.1544 - accuracy: 0.8023\n",
      "Epoch 4/11\n",
      "1550/1550 [==============================] - 32s 20ms/step - loss: 0.1532 - accuracy: 0.8023\n",
      "Epoch 5/11\n",
      "1550/1550 [==============================] - 31s 20ms/step - loss: 0.1520 - accuracy: 0.8024\n",
      "Epoch 6/11\n",
      "1550/1550 [==============================] - 32s 21ms/step - loss: 0.1504 - accuracy: 0.8021\n",
      "Epoch 7/11\n",
      "1550/1550 [==============================] - 35s 23ms/step - loss: 0.1491 - accuracy: 0.8024\n",
      "Epoch 8/11\n",
      "1550/1550 [==============================] - 37s 24ms/step - loss: 0.1482 - accuracy: 0.8028\n",
      "Epoch 9/11\n",
      "1550/1550 [==============================] - 35s 23ms/step - loss: 0.1475 - accuracy: 0.8030\n",
      "Epoch 10/11\n",
      "1550/1550 [==============================] - 33s 21ms/step - loss: 0.1472 - accuracy: 0.8033\n",
      "Epoch 11/11\n",
      "1550/1550 [==============================] - 31s 20ms/step - loss: 0.1469 - accuracy: 0.8036\n",
      "388/388 [==============================] - 4s 8ms/step\n",
      "[[0.26366773]\n",
      " [0.20540896]\n",
      " [0.18495116]\n",
      " ...\n",
      " [0.10711867]\n",
      " [0.1925085 ]\n",
      " [0.33054617]]\n",
      "Evaluate on test data for col: look\n",
      "97/97 [==============================] - 2s 17ms/step - loss: 0.1451 - accuracy: 0.8041\n",
      "{'loss': 0.14513801038265228, 'accuracy': 0.8040655255317688}\n",
      "Epoch 1/11\n",
      "1550/1550 [==============================] - 34s 22ms/step - loss: 0.1435 - accuracy: 0.8200\n",
      "Epoch 2/11\n",
      "1550/1550 [==============================] - 33s 21ms/step - loss: 0.1246 - accuracy: 0.8514\n",
      "Epoch 3/11\n",
      "1550/1550 [==============================] - 32s 21ms/step - loss: 0.1242 - accuracy: 0.8514\n",
      "Epoch 4/11\n",
      "1550/1550 [==============================] - 32s 20ms/step - loss: 0.1241 - accuracy: 0.8514\n",
      "Epoch 5/11\n",
      "1550/1550 [==============================] - 32s 21ms/step - loss: 0.1240 - accuracy: 0.8514\n",
      "Epoch 6/11\n",
      "1550/1550 [==============================] - 32s 21ms/step - loss: 0.1238 - accuracy: 0.8514\n",
      "Epoch 7/11\n",
      "1550/1550 [==============================] - 33s 21ms/step - loss: 0.1238 - accuracy: 0.8514\n",
      "Epoch 8/11\n",
      "1550/1550 [==============================] - 34s 22ms/step - loss: 0.1237 - accuracy: 0.8514\n",
      "Epoch 9/11\n",
      "1550/1550 [==============================] - 34s 22ms/step - loss: 0.1237 - accuracy: 0.8514\n",
      "Epoch 10/11\n",
      "1550/1550 [==============================] - 35s 22ms/step - loss: 0.1236 - accuracy: 0.8514\n",
      "Epoch 11/11\n",
      "1550/1550 [==============================] - 38s 25ms/step - loss: 0.1236 - accuracy: 0.8514\n",
      "388/388 [==============================] - 4s 10ms/step\n",
      "[[0.82442296]\n",
      " [0.86960685]\n",
      " [0.85081625]\n",
      " ...\n",
      " [0.8749856 ]\n",
      " [0.8725873 ]\n",
      " [0.7984977 ]]\n",
      "Evaluate on test data for col: action\n",
      "97/97 [==============================] - 2s 23ms/step - loss: 0.1241 - accuracy: 0.8509\n",
      "{'loss': 0.1240646168589592, 'accuracy': 0.8508509993553162}\n",
      "Epoch 1/11\n",
      "1550/1550 [==============================] - 35s 23ms/step - loss: 0.2350 - accuracy: 0.6109\n",
      "Epoch 2/11\n",
      "1550/1550 [==============================] - 39s 25ms/step - loss: 0.2303 - accuracy: 0.6136\n",
      "Epoch 3/11\n",
      "1550/1550 [==============================] - 35s 23ms/step - loss: 0.2289 - accuracy: 0.6153\n",
      "Epoch 4/11\n",
      "1550/1550 [==============================] - 35s 22ms/step - loss: 0.2281 - accuracy: 0.6173\n",
      "Epoch 5/11\n",
      "1550/1550 [==============================] - 36s 23ms/step - loss: 0.2275 - accuracy: 0.6189\n",
      "Epoch 6/11\n",
      "1550/1550 [==============================] - 36s 23ms/step - loss: 0.2269 - accuracy: 0.6200\n",
      "Epoch 7/11\n",
      "1550/1550 [==============================] - 36s 23ms/step - loss: 0.2265 - accuracy: 0.6231\n",
      "Epoch 8/11\n",
      "1550/1550 [==============================] - 36s 23ms/step - loss: 0.2261 - accuracy: 0.6248\n",
      "Epoch 9/11\n",
      "1550/1550 [==============================] - 33s 21ms/step - loss: 0.2257 - accuracy: 0.6251\n",
      "Epoch 10/11\n",
      "1550/1550 [==============================] - 34s 22ms/step - loss: 0.2252 - accuracy: 0.6256\n",
      "Epoch 11/11\n",
      "1550/1550 [==============================] - 32s 21ms/step - loss: 0.2249 - accuracy: 0.6253\n",
      "388/388 [==============================] - 3s 8ms/step\n",
      "[[0.67681044]\n",
      " [0.66336733]\n",
      " [0.47508192]\n",
      " ...\n",
      " [0.78370667]\n",
      " [0.5117222 ]\n",
      " [0.54531896]]\n",
      "Evaluate on test data for col: cross\n",
      "97/97 [==============================] - 2s 17ms/step - loss: 0.2262 - accuracy: 0.6235\n",
      "{'loss': 0.2261667549610138, 'accuracy': 0.6235379576683044}\n",
      "Epoch 1/11\n",
      "1550/1550 [==============================] - 30s 19ms/step - loss: 0.0175 - accuracy: 0.9889\n",
      "Epoch 2/11\n",
      "1550/1550 [==============================] - 29s 19ms/step - loss: 0.0042 - accuracy: 0.9961\n",
      "Epoch 3/11\n",
      "1550/1550 [==============================] - 30s 19ms/step - loss: 0.0040 - accuracy: 0.9961\n",
      "Epoch 4/11\n",
      "1550/1550 [==============================] - 29s 19ms/step - loss: 0.0039 - accuracy: 0.9961\n",
      "Epoch 5/11\n",
      "1550/1550 [==============================] - 30s 19ms/step - loss: 0.0039 - accuracy: 0.9961\n",
      "Epoch 6/11\n",
      "1550/1550 [==============================] - 30s 19ms/step - loss: 0.0039 - accuracy: 0.9961\n",
      "Epoch 7/11\n",
      "1550/1550 [==============================] - 36s 23ms/step - loss: 0.0039 - accuracy: 0.9961\n",
      "Epoch 8/11\n",
      "1550/1550 [==============================] - 31s 20ms/step - loss: 0.0039 - accuracy: 0.9961\n",
      "Epoch 9/11\n",
      "1550/1550 [==============================] - 31s 20ms/step - loss: 0.0039 - accuracy: 0.9961\n",
      "Epoch 10/11\n",
      "1550/1550 [==============================] - 33s 22ms/step - loss: 0.0039 - accuracy: 0.9961\n",
      "Epoch 11/11\n",
      "1550/1550 [==============================] - 39s 25ms/step - loss: 0.0039 - accuracy: 0.9961\n",
      "388/388 [==============================] - 3s 8ms/step\n",
      "[[0.02213934]\n",
      " [0.00751397]\n",
      " [0.01088995]\n",
      " ...\n",
      " [0.00206525]\n",
      " [0.00587526]\n",
      " [0.01491641]]\n",
      "Evaluate on test data for col: hand_gesture\n",
      "97/97 [==============================] - 2s 19ms/step - loss: 0.0045 - accuracy: 0.9954\n",
      "{'loss': 0.004520803224295378, 'accuracy': 0.9954020977020264}\n",
      "Epoch 1/11\n",
      "1550/1550 [==============================] - 35s 22ms/step - loss: 0.0010 - accuracy: 0.9990\n",
      "Epoch 2/11\n",
      "1550/1550 [==============================] - 35s 23ms/step - loss: 0.0010 - accuracy: 0.9990\n",
      "Epoch 3/11\n",
      "1550/1550 [==============================] - 36s 23ms/step - loss: 0.0010 - accuracy: 0.9990\n",
      "Epoch 4/11\n",
      " 563/1550 [=========>....................] - ETA: 23s - loss: 9.8448e-04 - accuracy: 0.9990"
     ]
    }
   ],
   "source": [
    "features, coordinate_values = X_train.shape\n",
    "model = Sequential()\n",
    "model.add(LSTM(64, input_shape=(coordinate_values,1)))\n",
    "model.add(Dense(128, activation='relu'))\n",
    "model.add(Dense(64, activation='relu'))\n",
    "model.add(Dense(32, activation='relu'))\n",
    "model.add(Dense(1))  # output layer，units is the unit number for output\n",
    "\n",
    "# compile model\n",
    "optimizer = keras.optimizers.Adam(learning_rate=0.00001)\n",
    "model.compile(optimizer=optimizer, loss='mean_squared_error', metrics=['accuracy'])\n",
    "\n",
    "# train model\n",
    "for col in Y_train.columns:\n",
    "    y_train = Y_train[col].to_numpy()\n",
    "    y_test = Y_test[col].to_numpy()\n",
    "    model.fit(X_train, y_train, epochs=11, batch_size=32)\n",
    "\n",
    "    # prediction\n",
    "    predictions = model.predict(X_test)\n",
    "\n",
    "\n",
    "    print(predictions)\n",
    "    print(\"Evaluate on test data for col: \" +col)\n",
    "    results = model.evaluate(X_test, y_test, batch_size=128)\n",
    "    print(dict(zip(model.metrics_names, results)))"
   ],
   "metadata": {
    "collapsed": false,
    "ExecuteTime": {
     "end_time": "2023-07-03T15:46:40.188834200Z",
     "start_time": "2023-07-03T15:15:43.959736300Z"
    }
   }
  },
  {
   "cell_type": "code",
   "execution_count": 5,
   "outputs": [],
   "source": [
    "print(results)"
   ],
   "metadata": {
    "collapsed": false
   }
  },
  {
   "cell_type": "code",
   "execution_count": null,
   "outputs": [],
   "source": [],
   "metadata": {
    "collapsed": false
   }
  }
 ],
 "metadata": {
  "kernelspec": {
   "display_name": "Python 3",
   "language": "python",
   "name": "python3"
  },
  "language_info": {
   "codemirror_mode": {
    "name": "ipython",
    "version": 2
   },
   "file_extension": ".py",
   "mimetype": "text/x-python",
   "name": "python",
   "nbconvert_exporter": "python",
   "pygments_lexer": "ipython2",
   "version": "2.7.6"
  }
 },
 "nbformat": 4,
 "nbformat_minor": 0
}
