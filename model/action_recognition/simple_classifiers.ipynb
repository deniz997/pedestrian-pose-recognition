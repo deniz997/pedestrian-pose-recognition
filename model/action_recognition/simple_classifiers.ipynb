{
 "cells": [
  {
   "cell_type": "code",
   "execution_count": 1,
   "metadata": {
    "collapsed": true,
    "ExecuteTime": {
     "end_time": "2023-07-19T10:48:48.555593800Z",
     "start_time": "2023-07-19T10:48:31.560717700Z"
    }
   },
   "outputs": [],
   "source": [
    "import pandas as pd\n",
    "import sklearn.metrics as metrics\n",
    "import tensorflow as tf\n",
    "from keras.layers import LSTM, Dense\n",
    "from keras.models import Sequential\n",
    "from scipy import sparse\n",
    "from sklearn.ensemble import RandomForestClassifier\n",
    "from sklearn.model_selection import train_test_split\n",
    "from sklearn.svm import SVC\n",
    "from skmultilearn.problem_transform import BinaryRelevance, ClassifierChain\n",
    "from tcn import TCN, tcn_full_summary\n",
    "\n",
    "from model.data_parser import convert_jaad_dict_to_df, get_JAAD_data"
   ]
  },
  {
   "cell_type": "code",
   "execution_count": 2,
   "outputs": [
    {
     "name": "stdout",
     "output_type": "stream",
     "text": [
      "Starting to read JAAD json files!\n"
     ]
    }
   ],
   "source": [
    "#Load data\n",
    "data_dir = \"C:/Users/max00/Documents/PoseRecognition/pedestrian-pose-recognition/data/JAAD_JSON_Labels/\"\n",
    "\n",
    "X, Y = convert_jaad_dict_to_df(get_JAAD_data(data_dir))\n",
    "\n",
    "# Split the data into training and testing sets\n",
    "X_train, X_test, Y_train, Y_test = train_test_split(X, Y, test_size=0.2, random_state=42)\n",
    "sp_X_train = sparse.lil_matrix(X_train.values)\n",
    "sp_Y_train = sparse.lil_matrix(Y_train.values)\n",
    "sp_X_test = sparse.csr_matrix(X_test.values)\n",
    "sp_Y_test = sparse.csr_matrix(Y_test.values)"
   ],
   "metadata": {
    "collapsed": false,
    "ExecuteTime": {
     "end_time": "2023-07-19T10:50:40.039262800Z",
     "start_time": "2023-07-19T10:49:07.700835400Z"
    }
   }
  },
  {
   "cell_type": "markdown",
   "source": [
    "# Random forest"
   ],
   "metadata": {
    "collapsed": false
   }
  },
  {
   "cell_type": "code",
   "execution_count": 13,
   "outputs": [
    {
     "name": "stdout",
     "output_type": "stream",
     "text": [
      "0.04928611760909898\n",
      "0.8362507058159232\n"
     ]
    }
   ],
   "source": [
    "classifier = ClassifierChain(\n",
    "        classifier=RandomForestClassifier(n_estimators=100),\n",
    "        require_dense=[False, True]\n",
    "    )\n",
    "\n",
    "classifier.fit(sp_X_train, sp_Y_train)\n",
    "# predict\n",
    "predictions = classifier.predict(sp_X_test)\n",
    "\n",
    "print(metrics.hamming_loss(sp_Y_test, predictions))\n",
    "print(metrics.accuracy_score(sp_Y_test, predictions))"
   ],
   "metadata": {
    "collapsed": false,
    "ExecuteTime": {
     "end_time": "2023-06-27T15:14:06.816859100Z",
     "start_time": "2023-06-27T15:05:43.023493400Z"
    }
   }
  },
  {
   "cell_type": "code",
   "execution_count": 16,
   "outputs": [
    {
     "name": "stdout",
     "output_type": "stream",
     "text": [
      "0.04839880616278132\n",
      "0.8384286520932483\n"
     ]
    },
    {
     "ename": "TypeError",
     "evalue": "len() of unsized object",
     "output_type": "error",
     "traceback": [
      "\u001B[1;31m---------------------------------------------------------------------------\u001B[0m",
      "\u001B[1;31mTypeError\u001B[0m                                 Traceback (most recent call last)",
      "Cell \u001B[1;32mIn[16], line 7\u001B[0m\n\u001B[0;32m      5\u001B[0m i\u001B[38;5;241m=\u001B[39m\u001B[38;5;241m0\u001B[39m\n\u001B[0;32m      6\u001B[0m \u001B[38;5;28;01mfor\u001B[39;00m col \u001B[38;5;129;01min\u001B[39;00m Y_test\u001B[38;5;241m.\u001B[39mcolumns:\n\u001B[1;32m----> 7\u001B[0m     \u001B[38;5;28mprint\u001B[39m(col \u001B[38;5;241m+\u001B[39m \u001B[38;5;124m\"\u001B[39m\u001B[38;5;124m accury:\u001B[39m\u001B[38;5;124m\"\u001B[39m \u001B[38;5;241m+\u001B[39m \u001B[43mmetrics\u001B[49m\u001B[38;5;241;43m.\u001B[39;49m\u001B[43maccuracy_score\u001B[49m\u001B[43m(\u001B[49m\u001B[43mY_test\u001B[49m\u001B[43m[\u001B[49m\u001B[43mcol\u001B[49m\u001B[43m]\u001B[49m\u001B[43m,\u001B[49m\u001B[43m \u001B[49m\u001B[43mpredictions\u001B[49m\u001B[43m[\u001B[49m\u001B[43m:\u001B[49m\u001B[43m,\u001B[49m\u001B[43mi\u001B[49m\u001B[43m]\u001B[49m\u001B[43m)\u001B[49m )\n\u001B[0;32m      8\u001B[0m     i \u001B[38;5;241m+\u001B[39m\u001B[38;5;241m=\u001B[39m \u001B[38;5;241m1\u001B[39m\n",
      "File \u001B[1;32m~\\Documents\\PoseRecognition\\pedestrian-pose-recognition\\venv\\lib\\site-packages\\sklearn\\utils\\validation.py:63\u001B[0m, in \u001B[0;36m_deprecate_positional_args.<locals>._inner_deprecate_positional_args.<locals>.inner_f\u001B[1;34m(*args, **kwargs)\u001B[0m\n\u001B[0;32m     61\u001B[0m extra_args \u001B[38;5;241m=\u001B[39m \u001B[38;5;28mlen\u001B[39m(args) \u001B[38;5;241m-\u001B[39m \u001B[38;5;28mlen\u001B[39m(all_args)\n\u001B[0;32m     62\u001B[0m \u001B[38;5;28;01mif\u001B[39;00m extra_args \u001B[38;5;241m<\u001B[39m\u001B[38;5;241m=\u001B[39m \u001B[38;5;241m0\u001B[39m:\n\u001B[1;32m---> 63\u001B[0m     \u001B[38;5;28;01mreturn\u001B[39;00m f(\u001B[38;5;241m*\u001B[39margs, \u001B[38;5;241m*\u001B[39m\u001B[38;5;241m*\u001B[39mkwargs)\n\u001B[0;32m     65\u001B[0m \u001B[38;5;66;03m# extra_args > 0\u001B[39;00m\n\u001B[0;32m     66\u001B[0m args_msg \u001B[38;5;241m=\u001B[39m [\u001B[38;5;124m'\u001B[39m\u001B[38;5;132;01m{}\u001B[39;00m\u001B[38;5;124m=\u001B[39m\u001B[38;5;132;01m{}\u001B[39;00m\u001B[38;5;124m'\u001B[39m\u001B[38;5;241m.\u001B[39mformat(name, arg)\n\u001B[0;32m     67\u001B[0m             \u001B[38;5;28;01mfor\u001B[39;00m name, arg \u001B[38;5;129;01min\u001B[39;00m \u001B[38;5;28mzip\u001B[39m(kwonly_args[:extra_args],\n\u001B[0;32m     68\u001B[0m                                  args[\u001B[38;5;241m-\u001B[39mextra_args:])]\n",
      "File \u001B[1;32m~\\Documents\\PoseRecognition\\pedestrian-pose-recognition\\venv\\lib\\site-packages\\sklearn\\metrics\\_classification.py:202\u001B[0m, in \u001B[0;36maccuracy_score\u001B[1;34m(y_true, y_pred, normalize, sample_weight)\u001B[0m\n\u001B[0;32m    142\u001B[0m \u001B[38;5;250m\u001B[39m\u001B[38;5;124;03m\"\"\"Accuracy classification score.\u001B[39;00m\n\u001B[0;32m    143\u001B[0m \n\u001B[0;32m    144\u001B[0m \u001B[38;5;124;03mIn multilabel classification, this function computes subset accuracy:\u001B[39;00m\n\u001B[1;32m   (...)\u001B[0m\n\u001B[0;32m    198\u001B[0m \u001B[38;5;124;03m0.5\u001B[39;00m\n\u001B[0;32m    199\u001B[0m \u001B[38;5;124;03m\"\"\"\u001B[39;00m\n\u001B[0;32m    201\u001B[0m \u001B[38;5;66;03m# Compute accuracy for each possible representation\u001B[39;00m\n\u001B[1;32m--> 202\u001B[0m y_type, y_true, y_pred \u001B[38;5;241m=\u001B[39m \u001B[43m_check_targets\u001B[49m\u001B[43m(\u001B[49m\u001B[43my_true\u001B[49m\u001B[43m,\u001B[49m\u001B[43m \u001B[49m\u001B[43my_pred\u001B[49m\u001B[43m)\u001B[49m\n\u001B[0;32m    203\u001B[0m check_consistent_length(y_true, y_pred, sample_weight)\n\u001B[0;32m    204\u001B[0m \u001B[38;5;28;01mif\u001B[39;00m y_type\u001B[38;5;241m.\u001B[39mstartswith(\u001B[38;5;124m'\u001B[39m\u001B[38;5;124mmultilabel\u001B[39m\u001B[38;5;124m'\u001B[39m):\n",
      "File \u001B[1;32m~\\Documents\\PoseRecognition\\pedestrian-pose-recognition\\venv\\lib\\site-packages\\sklearn\\metrics\\_classification.py:85\u001B[0m, in \u001B[0;36m_check_targets\u001B[1;34m(y_true, y_pred)\u001B[0m\n\u001B[0;32m     83\u001B[0m check_consistent_length(y_true, y_pred)\n\u001B[0;32m     84\u001B[0m type_true \u001B[38;5;241m=\u001B[39m type_of_target(y_true)\n\u001B[1;32m---> 85\u001B[0m type_pred \u001B[38;5;241m=\u001B[39m \u001B[43mtype_of_target\u001B[49m\u001B[43m(\u001B[49m\u001B[43my_pred\u001B[49m\u001B[43m)\u001B[49m\n\u001B[0;32m     87\u001B[0m y_type \u001B[38;5;241m=\u001B[39m {type_true, type_pred}\n\u001B[0;32m     88\u001B[0m \u001B[38;5;28;01mif\u001B[39;00m y_type \u001B[38;5;241m==\u001B[39m {\u001B[38;5;124m\"\u001B[39m\u001B[38;5;124mbinary\u001B[39m\u001B[38;5;124m\"\u001B[39m, \u001B[38;5;124m\"\u001B[39m\u001B[38;5;124mmulticlass\u001B[39m\u001B[38;5;124m\"\u001B[39m}:\n",
      "File \u001B[1;32m~\\Documents\\PoseRecognition\\pedestrian-pose-recognition\\venv\\lib\\site-packages\\sklearn\\utils\\multiclass.py:288\u001B[0m, in \u001B[0;36mtype_of_target\u001B[1;34m(y)\u001B[0m\n\u001B[0;32m    285\u001B[0m     \u001B[38;5;28;01mpass\u001B[39;00m\n\u001B[0;32m    287\u001B[0m \u001B[38;5;66;03m# Invalid inputs\u001B[39;00m\n\u001B[1;32m--> 288\u001B[0m \u001B[38;5;28;01mif\u001B[39;00m y\u001B[38;5;241m.\u001B[39mndim \u001B[38;5;241m>\u001B[39m \u001B[38;5;241m2\u001B[39m \u001B[38;5;129;01mor\u001B[39;00m (y\u001B[38;5;241m.\u001B[39mdtype \u001B[38;5;241m==\u001B[39m \u001B[38;5;28mobject\u001B[39m \u001B[38;5;129;01mand\u001B[39;00m \u001B[38;5;28;43mlen\u001B[39;49m\u001B[43m(\u001B[49m\u001B[43my\u001B[49m\u001B[43m)\u001B[49m \u001B[38;5;129;01mand\u001B[39;00m\n\u001B[0;32m    289\u001B[0m                   \u001B[38;5;129;01mnot\u001B[39;00m \u001B[38;5;28misinstance\u001B[39m(y\u001B[38;5;241m.\u001B[39mflat[\u001B[38;5;241m0\u001B[39m], \u001B[38;5;28mstr\u001B[39m)):\n\u001B[0;32m    290\u001B[0m     \u001B[38;5;28;01mreturn\u001B[39;00m \u001B[38;5;124m'\u001B[39m\u001B[38;5;124munknown\u001B[39m\u001B[38;5;124m'\u001B[39m  \u001B[38;5;66;03m# [[[1, 2]]] or [obj_1] and not [\"label_1\"]\u001B[39;00m\n\u001B[0;32m    292\u001B[0m \u001B[38;5;28;01mif\u001B[39;00m y\u001B[38;5;241m.\u001B[39mndim \u001B[38;5;241m==\u001B[39m \u001B[38;5;241m2\u001B[39m \u001B[38;5;129;01mand\u001B[39;00m y\u001B[38;5;241m.\u001B[39mshape[\u001B[38;5;241m1\u001B[39m] \u001B[38;5;241m==\u001B[39m \u001B[38;5;241m0\u001B[39m:\n",
      "\u001B[1;31mTypeError\u001B[0m: len() of unsized object"
     ]
    }
   ],
   "source": [
    "classifier.fit(X_train, Y_train)\n",
    "predictions = classifier.predict(X_test)\n",
    "df = pd.DataFrame.sparse.from_spmatrix(predictions)"
   ],
   "metadata": {
    "collapsed": false,
    "ExecuteTime": {
     "end_time": "2023-06-27T15:35:31.155011100Z",
     "start_time": "2023-06-27T15:28:20.521876500Z"
    }
   }
  },
  {
   "cell_type": "code",
   "execution_count": 28,
   "outputs": [
    {
     "name": "stdout",
     "output_type": "stream",
     "text": [
      "0.04839880616278132\n",
      "0.8384286520932483\n",
      "look accury:\n",
      "0.9244171977091232\n",
      "action accury:\n",
      "0.9409534564814068\n",
      "cross accury:\n",
      "0.8945712672420747\n",
      "hand_gesture accury:\n",
      "0.9983867064612406\n",
      "nod accury:\n",
      "0.9996773412922482\n"
     ]
    }
   ],
   "source": [
    "print(metrics.hamming_loss(Y_test, df))\n",
    "print(metrics.accuracy_score(Y_test, df))\n",
    "i=0\n",
    "for col in df:\n",
    "    df = df.rename(columns={col: str(int(col))})\n",
    "for col in Y_test.columns:\n",
    "    print(col + \" accury:\")\n",
    "    print(metrics.accuracy_score(Y_test[col], df[str(i)]) )\n",
    "    i += 1"
   ],
   "metadata": {
    "collapsed": false,
    "ExecuteTime": {
     "end_time": "2023-06-27T15:42:05.959389500Z",
     "start_time": "2023-06-27T15:42:05.910382Z"
    }
   }
  },
  {
   "cell_type": "markdown",
   "source": [
    "# BinaryRelevance"
   ],
   "metadata": {
    "collapsed": false
   }
  },
  {
   "cell_type": "code",
   "execution_count": null,
   "outputs": [],
   "source": [
    "clf = BinaryRelevance(\n",
    "        classifier=SVC(),\n",
    "        require_dense=[False, True]\n",
    "    )\n",
    "\n",
    "clf.fit(sp_X_train, sp_Y_train)\n",
    "prediction = clf.predict(sp_X_test)\n",
    "\n",
    "\n",
    "print(metrics.hamming_loss(sp_Y_test, prediction))\n",
    "print(metrics.accuracy_score(sp_Y_test, prediction))"
   ],
   "metadata": {
    "collapsed": false
   }
  },
  {
   "cell_type": "markdown",
   "source": [
    "# LSTM"
   ],
   "metadata": {
    "collapsed": false
   }
  },
  {
   "cell_type": "code",
   "execution_count": 7,
   "outputs": [
    {
     "name": "stdout",
     "output_type": "stream",
     "text": [
      "Epoch 1/4\n",
      "1550/1550 [==============================] - 63s 38ms/step - loss: 0.1693 - accuracy: 0.8023\n",
      "Epoch 2/4\n",
      "1550/1550 [==============================] - 58s 37ms/step - loss: 0.1564 - accuracy: 0.8023\n",
      "Epoch 3/4\n",
      "1550/1550 [==============================] - 59s 38ms/step - loss: 0.1549 - accuracy: 0.8023\n",
      "Epoch 4/4\n",
      "1550/1550 [==============================] - 61s 39ms/step - loss: 0.1531 - accuracy: 0.8023\n",
      "388/388 [==============================] - 7s 15ms/step\n",
      "[[0.2132335 ]\n",
      " [0.18973319]\n",
      " [0.14931498]\n",
      " ...\n",
      " [0.15488715]\n",
      " [0.2281002 ]\n",
      " [0.2570317 ]]\n",
      "Evaluate on test data for col: look\n",
      "97/97 [==============================] - 4s 34ms/step - loss: 0.1507 - accuracy: 0.8029\n",
      "{'loss': 0.15074381232261658, 'accuracy': 0.8029361963272095}\n",
      "Epoch 1/4\n",
      "1550/1550 [==============================] - 62s 40ms/step - loss: 0.1439 - accuracy: 0.8229\n",
      "Epoch 2/4\n",
      "1550/1550 [==============================] - 59s 38ms/step - loss: 0.1264 - accuracy: 0.8514\n",
      "Epoch 3/4\n",
      "1550/1550 [==============================] - 61s 39ms/step - loss: 0.1259 - accuracy: 0.8514\n",
      "Epoch 4/4\n",
      "1550/1550 [==============================] - 61s 39ms/step - loss: 0.1256 - accuracy: 0.8514\n",
      "388/388 [==============================] - 6s 15ms/step\n",
      "[[0.85234714]\n",
      " [0.86180073]\n",
      " [0.86248255]\n",
      " ...\n",
      " [0.86149466]\n",
      " [0.8512422 ]\n",
      " [0.83688915]]\n",
      "Evaluate on test data for col: action\n",
      "97/97 [==============================] - 3s 33ms/step - loss: 0.1257 - accuracy: 0.8509\n",
      "{'loss': 0.12566174566745758, 'accuracy': 0.8508509993553162}\n",
      "Epoch 1/4\n",
      "1550/1550 [==============================] - 62s 40ms/step - loss: 0.2412 - accuracy: 0.5938\n",
      "Epoch 2/4\n",
      "1550/1550 [==============================] - 53s 34ms/step - loss: 0.2365 - accuracy: 0.6048\n",
      "Epoch 3/4\n",
      "1550/1550 [==============================] - 62s 40ms/step - loss: 0.2338 - accuracy: 0.6072\n",
      "Epoch 4/4\n",
      "1550/1550 [==============================] - 61s 40ms/step - loss: 0.2331 - accuracy: 0.6091\n",
      "388/388 [==============================] - 6s 16ms/step\n",
      "[[0.6492266 ]\n",
      " [0.63928515]\n",
      " [0.5340903 ]\n",
      " ...\n",
      " [0.62422323]\n",
      " [0.4854562 ]\n",
      " [0.5504405 ]]\n",
      "Evaluate on test data for col: cross\n",
      "97/97 [==============================] - 3s 33ms/step - loss: 0.2345 - accuracy: 0.6059\n",
      "{'loss': 0.23450733721256256, 'accuracy': 0.605872392654419}\n",
      "Epoch 1/4\n",
      "1550/1550 [==============================] - 61s 40ms/step - loss: 0.0705 - accuracy: 0.9888\n",
      "Epoch 2/4\n",
      "1550/1550 [==============================] - 59s 38ms/step - loss: 0.0622 - accuracy: 0.9961\n",
      "Epoch 3/4\n",
      "1550/1550 [==============================] - 59s 38ms/step - loss: 0.0622 - accuracy: 0.9961\n",
      "Epoch 4/4\n",
      "1550/1550 [==============================] - 58s 38ms/step - loss: 0.0621 - accuracy: 0.9961\n",
      "388/388 [==============================] - 6s 14ms/step\n",
      "[[0.03964515]\n",
      " [0.03010362]\n",
      " [0.02452706]\n",
      " ...\n",
      " [0.00266393]\n",
      " [0.01866168]\n",
      " [0.02999464]]\n",
      "Evaluate on test data for col: hand_gesture\n",
      "97/97 [==============================] - 3s 34ms/step - loss: 0.0730 - accuracy: 0.9954\n",
      "{'loss': 0.0730135589838028, 'accuracy': 0.9954020977020264}\n",
      "Epoch 1/4\n",
      "1550/1550 [==============================] - 60s 38ms/step - loss: 0.0011 - accuracy: 0.9990\n",
      "Epoch 2/4\n",
      "1550/1550 [==============================] - 58s 38ms/step - loss: 0.0010 - accuracy: 0.9990\n",
      "Epoch 3/4\n",
      "1550/1550 [==============================] - 55s 36ms/step - loss: 0.0010 - accuracy: 0.9990\n",
      "Epoch 4/4\n",
      "1550/1550 [==============================] - 59s 38ms/step - loss: 0.0010 - accuracy: 0.9990\n",
      "388/388 [==============================] - 6s 16ms/step\n",
      "[[-2.2178516e-04]\n",
      " [ 2.2090077e-03]\n",
      " [-3.3612549e-04]\n",
      " ...\n",
      " [-3.7893653e-05]\n",
      " [ 1.6751159e-03]\n",
      " [-1.4129244e-03]]\n",
      "Evaluate on test data for col: nod\n",
      "97/97 [==============================] - 3s 33ms/step - loss: 8.0669e-04 - accuracy: 0.9992\n",
      "{'loss': 0.0008066936279647052, 'accuracy': 0.9991933703422546}\n"
     ]
    }
   ],
   "source": [
    "features, coordinate_values = X_train.shape\n",
    "model = Sequential()\n",
    "model.add(LSTM(64, input_shape=(coordinate_values, 1)))\n",
    "model.add(Dense(128, activation='relu'))\n",
    "model.add(Dense(64, activation='relu'))\n",
    "model.add(Dense(32, activation='relu'))\n",
    "model.add(Dense(4))  # output layer，units is the unit number for output\n",
    "\n",
    "# compile model\n",
    "model.compile(optimizer='adam', loss=tf.keras.losses.binary_crossentropy,\n",
    "                  metrics=[tf.keras.metrics.F1Score(\n",
    "                      average='weighted', threshold=0.5, name='f1_score', dtype=None)])\n",
    "\n",
    "model.fit(X_train, Y_train, epochs=11, batch_size=32)\n",
    "\n",
    "# prediction\n",
    "predictions = model.predict(X_test)\n",
    "\n",
    "results = model.evaluate(X_test, Y_test, batch_size=128)\n",
    "print(dict(zip(model.metrics_names, results)))"
   ],
   "metadata": {
    "collapsed": false,
    "ExecuteTime": {
     "end_time": "2023-07-11T08:59:54.104934400Z",
     "start_time": "2023-07-11T08:39:07.353109Z"
    }
   }
  },
  {
   "cell_type": "markdown",
   "source": [
    "# TCN"
   ],
   "metadata": {
    "collapsed": false
   }
  },
  {
   "cell_type": "code",
   "execution_count": null,
   "outputs": [
    {
     "name": "stdout",
     "output_type": "stream",
     "text": [
      "Receptive field size = 253\n",
      "WARNING: tcn_full_summary: Compatible with tensorflow 2.5.0 or below.\n",
      "Use tensorboard instead. Example in keras-tcn/tasks/tcn_tensorboard.py.\n",
      "Train model for: look\n",
      "Epoch 1/4\n",
      "  32/1000 [..............................] - ETA: 2:12 - loss: 1.1838 - accuracy: 0.6356"
     ]
    }
   ],
   "source": [
    "features, coordinate_values = X_train.shape\n",
    "batch_size, time_steps, input_dim = None, 20, coordinate_values\n",
    "tcn_layer = TCN(input_shape=(coordinate_values, 1))\n",
    "# The receptive field tells you how far the model can see in terms of timesteps.\n",
    "print('Receptive field size =', tcn_layer.receptive_field)\n",
    "\n",
    "m = Sequential([\n",
    "        tcn_layer,\n",
    "        model.add(Dense(128, activation='relu')),\n",
    "        model.add(Dense(64, activation='relu')),\n",
    "        model.add(Dense(32, activation='relu')),\n",
    "        Dense(4)\n",
    "    ])\n",
    "\n",
    "m.compile(optimizer='adam', loss=tf.keras.losses.binary_crossentropy, metrics=[tf.keras.metrics.F1Score(\n",
    "        average='weighted', threshold=0.5, name='f1_score', dtype=None)])\n",
    "\n",
    "tcn_full_summary(m, expand_residual_blocks=False)\n",
    "\n",
    "m.fit(X_train, Y_train, epochs=8, steps_per_epoch=1000)\n",
    "predictions = m.predict(X_test)\n",
    "print(\"Complete\")\n",
    "results = m.evaluate(X_test, Y_test, batch_size=32)\n",
    "print(dict(zip(m.metrics_names, results)))"
   ],
   "metadata": {
    "collapsed": false,
    "is_executing": true,
    "ExecuteTime": {
     "start_time": "2023-07-11T12:37:23.897095900Z"
    }
   }
  },
  {
   "cell_type": "code",
   "execution_count": 11,
   "outputs": [
    {
     "name": "stdout",
     "output_type": "stream",
     "text": [
      "Receptive field size = 253\n",
      "WARNING: tcn_full_summary: Compatible with tensorflow 2.5.0 or below.\n",
      "Use tensorboard instead. Example in keras-tcn/tasks/tcn_tensorboard.py.\n",
      "Epoch 1/4\n",
      "1000/1000 [==============================] - 128s 120ms/step - loss: 4.0742 - f1_score: 0.0023 - val_loss: 4.0398 - val_f1_score: 0.0000e+00\n",
      "Epoch 2/4\n",
      "1000/1000 [==============================] - 114s 114ms/step - loss: 4.0681 - f1_score: 0.0000e+00 - val_loss: 4.0398 - val_f1_score: 0.0000e+00\n",
      "Epoch 3/4\n",
      "1000/1000 [==============================] - 113s 113ms/step - loss: 4.0662 - f1_score: 0.0000e+00 - val_loss: 4.0398 - val_f1_score: 0.0000e+00\n",
      "Epoch 4/4\n",
      " 968/1000 [============================>.] - ETA: 3s - loss: 4.0674 - f1_score: 0.0000e+00WARNING:tensorflow:Your input ran out of data; interrupting training. Make sure that your dataset or generator can generate at least `steps_per_epoch * epochs` batches (in this case, 4000 batches). You may need to use the repeat() function when building your dataset.\n",
      "1000/1000 [==============================] - 121s 121ms/step - loss: 4.0674 - f1_score: 0.0000e+00 - val_loss: 4.0398 - val_f1_score: 0.0000e+00\n"
     ]
    }
   ],
   "source": [
    "features, coordinate_values = X_train.shape\n",
    "batch_size, time_steps, input_dim = None, 20, coordinate_values\n",
    "tcn_layer = TCN(input_shape=(coordinate_values, 1))\n",
    "# The receptive field tells you how far the model can see in terms of timesteps.\n",
    "print('Receptive field size =', tcn_layer.receptive_field)\n",
    "\n",
    "m = Sequential([\n",
    "        tcn_layer,\n",
    "        Dense(4)\n",
    "    ])\n",
    "\n",
    "m.compile(optimizer='adam', loss=tf.keras.losses.binary_crossentropy, metrics=[tf.keras.metrics.F1Score(\n",
    "        average='weighted', threshold=0.5, name='f1_score', dtype=None)])\n",
    "\n",
    "tcn_full_summary(m, expand_residual_blocks=False)\n",
    "\n",
    "history = m.fit(X_train, Y_train,  epochs=4, steps_per_epoch=1000)\n",
    "predictions = m.predict(X_test)\n",
    "print(\"Complete\")\n",
    "results = m.evaluate(X_test, Y_test, batch_size=32)\n",
    "print(dict(zip(m.metrics_names, results)))"
   ],
   "metadata": {
    "collapsed": false,
    "ExecuteTime": {
     "end_time": "2023-07-19T12:40:02.035087100Z",
     "start_time": "2023-07-19T12:32:02.797263400Z"
    }
   }
  },
  {
   "cell_type": "code",
   "execution_count": 12,
   "outputs": [
    {
     "data": {
      "text/plain": "<Figure size 640x480 with 1 Axes>",
      "image/png": "[encoded data removed]"
     },
     "metadata": {},
     "output_type": "display_data"
    }
   ],
   "source": [
    "from matplotlib import pyplot as plt\n",
    "\n",
    "plt.plot(history.history['loss'])\n",
    "#plt.plot(history.history['val_loss'])\n",
    "plt.title('model loss')\n",
    "plt.ylabel('loss')\n",
    "plt.xlabel('epoch')\n",
    "plt.legend(['train', 'val'], loc='upper left')\n",
    "plt.show()"
   ],
   "metadata": {
    "collapsed": false,
    "ExecuteTime": {
     "end_time": "2023-07-19T12:40:32.987631900Z",
     "start_time": "2023-07-19T12:40:32.010671100Z"
    }
   }
  },
  {
   "cell_type": "code",
   "execution_count": null,
   "outputs": [],
   "source": [],
   "metadata": {
    "collapsed": false
   }
  }
 ],
 "metadata": {
  "kernelspec": {
   "display_name": "Python 3",
   "language": "python",
   "name": "python3"
  },
  "language_info": {
   "codemirror_mode": {
    "name": "ipython",
    "version": 2
   },
   "file_extension": ".py",
   "mimetype": "text/x-python",
   "name": "python",
   "nbconvert_exporter": "python",
   "pygments_lexer": "ipython2",
   "version": "2.7.6"
  }
 },
 "nbformat": 4,
 "nbformat_minor": 0
}
