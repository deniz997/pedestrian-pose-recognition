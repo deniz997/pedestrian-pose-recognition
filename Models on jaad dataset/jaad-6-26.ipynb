{
 "cells": [
  {
   "cell_type": "code",
   "execution_count": 1,
   "id": "96ae0a7a",
   "metadata": {},
   "outputs": [],
   "source": [
    "import os\n",
    "import json\n",
    "import numpy as np\n",
    "\n",
    "\n",
    "def get_data(file_dir):\n",
    "    \"\"\"\n",
    "    Will read JSON files from the provided file directory and subdirectories and return a list of dicts\n",
    "    :param file_dir: directory where to look for input JSON files\n",
    "    \"\"\"\n",
    "#     print('Starting to read JAAD json files!')\n",
    "    json_list = []\n",
    "\n",
    "    for dirpath, dirnames, filenames in os.walk(file_dir):\n",
    "        JAAD_list = [pos_json for pos_json in filenames if pos_json.endswith('.json')]\n",
    "        for js in JAAD_list:\n",
    "            with open(os.path.join(dirpath, js)) as json_file:\n",
    "                json_list.append(json.load(json_file))\n",
    "\n",
    "    return json_list"
   ]
  },
  {
   "cell_type": "code",
   "execution_count": 2,
   "id": "0565948b",
   "metadata": {},
   "outputs": [],
   "source": [
    "#lst_new:all the filename\n",
    "def file(folder_path):\n",
    "    with open(folder_path) as file:\n",
    "        lst=[]\n",
    "        for eachline in file:\n",
    "            eachline=eachline.rstrip('\\n')\n",
    "            lst.append(eachline)\n",
    "        lst_new=lst[1:-1]\n",
    "    return lst_new       "
   ]
  },
  {
   "cell_type": "code",
   "execution_count": 3,
   "id": "2eac5247",
   "metadata": {},
   "outputs": [],
   "source": [
    "json_list1=get_data('JAAD_output_JSON/video_0001')\n",
    "json_list2=get_data('JAAD_output_JSON/video_0002')"
   ]
  },
  {
   "cell_type": "code",
   "execution_count": 4,
   "id": "83998a97",
   "metadata": {},
   "outputs": [],
   "source": [
    "def get_index(filename):\n",
    "    name=file(filename)\n",
    "    index=[]\n",
    "    for i in name:\n",
    "        index.append(int(i[-4:]))\n",
    "    return index"
   ]
  },
  {
   "cell_type": "code",
   "execution_count": 5,
   "id": "aa2d355a",
   "metadata": {},
   "outputs": [],
   "source": [
    "# index of the videos\n",
    "index=get_index('JAAD_output_JSON/LIST.TXT')"
   ]
  },
  {
   "cell_type": "code",
   "execution_count": 6,
   "id": "cd1c2a67",
   "metadata": {},
   "outputs": [],
   "source": [
    "#create a dictionary which could save variables from json_list1 to json_list346\n",
    "def define_Dict(filename):\n",
    "    D={}\n",
    "    lst=file(filename)\n",
    "    index=get_index(filename)\n",
    "    for num,i in enumerate(lst):\n",
    "        json_list_name = f\"json_list{index[num]}\"\n",
    "        D[json_list_name]=get_data(f'JAAD_output_JSON/{lst[num]}')\n",
    "    return D"
   ]
  },
  {
   "cell_type": "code",
   "execution_count": 7,
   "id": "c398de5f",
   "metadata": {},
   "outputs": [],
   "source": [
    "Dict=define_Dict('JAAD_output_JSON/LIST.TXT')"
   ]
  },
  {
   "cell_type": "code",
   "execution_count": 8,
   "id": "bbd7334c",
   "metadata": {},
   "outputs": [],
   "source": [
    "#input:file content\n",
    "# return:(25,2)data\n",
    "#in this function the coordinate data would be extracted\n",
    "def transform_to_arr(lst):\n",
    "    lst_x=[]\n",
    "    lst_y=[]\n",
    "    for num,i in enumerate(lst):\n",
    "        if num%3==0:\n",
    "            lst_x.append(i)\n",
    "        if num%3==1:\n",
    "            lst_y.append(i)\n",
    "    data=np.stack((np.array(lst_x),np.array(lst_y)),axis=-1)\n",
    "    return data"
   ]
  },
  {
   "cell_type": "code",
   "execution_count": 9,
   "id": "ca92c882",
   "metadata": {},
   "outputs": [],
   "source": [
    "data0=transform_to_arr(json_list1[0]['people'][0]['pose_keypoints_2d'])"
   ]
  },
  {
   "cell_type": "code",
   "execution_count": 10,
   "id": "205cdb62",
   "metadata": {},
   "outputs": [],
   "source": [
    "# def stacked_data(lst):\n",
    "#     arr=np.empty((0,2))\n",
    "#     data=[]\n",
    "#     for i in range(len(lst)):\n",
    "#         if 'people' in lst[i]:\n",
    "#             for j in range(len(lst[i]['people'])):\n",
    "#                 arr=transform_to_arr(lst[i]['people'][j]['pose_keypoints_2d'])\n",
    "#                 print(j)\n",
    "#                 data.append(arr)\n",
    "#         elif 'pose_keypoints_2d' in lst[i]:\n",
    "#             arr=transform_to_arr(lst[i]['pose_keypoints_2d'])\n",
    "#             data.append(arr)\n",
    "#     stacked_data=np.stack(data,axis=0)\n",
    "#     return stacked_data"
   ]
  },
  {
   "cell_type": "code",
   "execution_count": 11,
   "id": "51adfe16",
   "metadata": {},
   "outputs": [],
   "source": [
    "#only extract the first person's infomation\n",
    "def stacked_data(lst):\n",
    "    arr=np.empty((0,2))\n",
    "    data=[]\n",
    "    for i in range(len(lst)):\n",
    "        if 'people' in lst[i] and lst[i]['people']!=[]:\n",
    "            arr=transform_to_arr(lst[i]['people'][0]['pose_keypoints_2d'])\n",
    "            data.append(arr)\n",
    "        elif 'pose_keypoints_2d' in lst[i]:\n",
    "            arr=transform_to_arr(lst[i]['pose_keypoints_2d'])\n",
    "            data.append(arr)\n",
    "    stacked_data=np.stack(data,axis=0)\n",
    "    return stacked_data"
   ]
  },
  {
   "cell_type": "code",
   "execution_count": 12,
   "id": "5baf8635",
   "metadata": {},
   "outputs": [],
   "source": [
    "import matplotlib.pyplot as plt\n",
    "\n",
    "def plot_skeleton2D(skeleton, connect_points=None):\n",
    "    fig = plt.figure(figsize=(4,10))\n",
    "    ax = fig.add_subplot(111)\n",
    "    x = skeleton[:, 0]\n",
    "    y = skeleton[:, 1]\n",
    "    ax.scatter(x, y, c='b', marker='o')\n",
    "    if connect_points:\n",
    "        for points in connect_points:\n",
    "            x_points = x[points]\n",
    "            y_points = y[points]\n",
    "            ax.plot(x_points, y_points, c='r')\n",
    "    for i,(xi,yi) in enumerate(zip(x,y)):\n",
    "        ax.annotate(str(i),(xi,yi), textcoords=\"offset points\", xytext=(0,10), ha='center')\n",
    "    ax.invert_yaxis()\n",
    "    ax.invert_xaxis()\n",
    "    ax.set_xlabel('X')\n",
    "    ax.set_ylabel('Y')\n",
    "    plt.show()\n",
    "connect_points=[[0,1],[0,15],[0,16],[1,2],[1,5],[1,8],[5,6],[6,7],[2,3],[3,4],[12,13],[13,14],[9,10],[10,11],[8,9],[8,12],[14,21],[11,24],[14,20],[20,19],[11,22],[22,23],[16,18],[15,17]]"
   ]
  },
  {
   "cell_type": "code",
   "execution_count": 13,
   "id": "9912a2fc",
   "metadata": {},
   "outputs": [
    {
     "data": {
      "image/png": "[encoded data removed]",
      "text/plain": [
       "<Figure size 288x720 with 1 Axes>"
      ]
     },
     "metadata": {
      "needs_background": "light"
     },
     "output_type": "display_data"
    }
   ],
   "source": [
    "plot_skeleton2D(data0,connect_points)"
   ]
  },
  {
   "cell_type": "code",
   "execution_count": 21,
   "id": "6e7dc911",
   "metadata": {},
   "outputs": [],
   "source": [
    "#find outliers\n",
    "#data:stacked data e.g(623,25,2)\n",
    "def make_zero_to_mean(data):\n",
    "    data_new=data\n",
    "    for i in range(data.shape[0]):\n",
    "        if np.any(np.all(data[i]==[0,0],axis=1)):\n",
    "            outliers=np.where((data[i][:,0]==0)&(data[i][:,1]==0))\n",
    "            #calculate the mean without outliers\n",
    "            lst=list(outliers[0])\n",
    "            for j in lst:\n",
    "                data_new=np.delete(data[i],int(j),axis=0)\n",
    "            new_points_mean=np.mean(data_new,axis=0)\n",
    "            #replace outliers[0,0] with new__mean\n",
    "            data[i][outliers] = new_points_mean\n",
    "        else:\n",
    "            data[i]=data[i]\n",
    "    return data"
   ]
  },
  {
   "cell_type": "code",
   "execution_count": 22,
   "id": "b3a7d3ae",
   "metadata": {},
   "outputs": [],
   "source": [
    "#Min-Max-Scaling\n",
    "from sklearn.preprocessing import MinMaxScaler\n",
    "scaler=MinMaxScaler()\n",
    "def MinMaxScaling(data):\n",
    "    data_new=make_zero_to_mean(data)\n",
    "    for i in range(data_new.shape[0]):\n",
    "        data_new[i]=scaler.fit_transform(data_new[i])\n",
    "    return data_new"
   ]
  },
  {
   "cell_type": "code",
   "execution_count": 23,
   "id": "f09dd40e",
   "metadata": {},
   "outputs": [],
   "source": [
    "# #Min-Max-Scaling\n",
    "# from sklearn.preprocessing import MinMaxScaler\n",
    "# scaler=MinMaxScaler()\n",
    "# def MinMaxScaling(data):\n",
    "#     for i in range(data.shape[0]):\n",
    "#         data[i]=scaler.fit_transform(data[i])\n",
    "#     return data"
   ]
  },
  {
   "cell_type": "code",
   "execution_count": 24,
   "id": "fb06dae4",
   "metadata": {},
   "outputs": [],
   "source": [
    "def get_x_data_inGeneral(D):\n",
    "    lst=[]\n",
    "    for i in index:\n",
    "        data=stacked_data(D[f'json_list{i}'])\n",
    "        data_preprocessing=MinMaxScaling(data)\n",
    "        lst.append(data_preprocessing)\n",
    "    return lst"
   ]
  },
  {
   "cell_type": "code",
   "execution_count": 25,
   "id": "f5db3a92",
   "metadata": {},
   "outputs": [
    {
     "data": {
      "text/plain": [
       "(321, 25, 2)"
      ]
     },
     "execution_count": 25,
     "metadata": {},
     "output_type": "execute_result"
    }
   ],
   "source": [
    "stacked_data(Dict['json_list54']).shape"
   ]
  },
  {
   "cell_type": "code",
   "execution_count": 26,
   "id": "8e494866",
   "metadata": {},
   "outputs": [
    {
     "data": {
      "text/plain": [
       "145"
      ]
     },
     "execution_count": 26,
     "metadata": {},
     "output_type": "execute_result"
    }
   ],
   "source": [
    "# lst constains all of the 145 videos,each shape is (N,25,2)\n",
    "lst=get_x_data_inGeneral(Dict)\n",
    "len(lst)"
   ]
  },
  {
   "cell_type": "code",
   "execution_count": 29,
   "id": "c291f693",
   "metadata": {
    "scrolled": false
   },
   "outputs": [
    {
     "data": {
      "image/png": "[encoded data removed]",
      "text/plain": [
       "<Figure size 288x720 with 1 Axes>"
      ]
     },
     "metadata": {
      "needs_background": "light"
     },
     "output_type": "display_data"
    }
   ],
   "source": [
    "#video243:run\n",
    "plot_skeleton2D(lst[100][51],connect_points)"
   ]
  },
  {
   "cell_type": "code",
   "execution_count": 30,
   "id": "cec067e8",
   "metadata": {
    "scrolled": true
   },
   "outputs": [
    {
     "data": {
      "image/png": "[encoded data removed]",
      "text/plain": [
       "<Figure size 288x720 with 1 Axes>"
      ]
     },
     "metadata": {
      "needs_background": "light"
     },
     "output_type": "display_data"
    }
   ],
   "source": [
    "#video294:standing\n",
    "plot_skeleton2D(lst[126][78],connect_points)"
   ]
  },
  {
   "cell_type": "code",
   "execution_count": 31,
   "id": "6f2d516c",
   "metadata": {
    "scrolled": true
   },
   "outputs": [
    {
     "data": {
      "image/png": "[encoded data removed]",
      "text/plain": [
       "<Figure size 288x720 with 1 Axes>"
      ]
     },
     "metadata": {
      "needs_background": "light"
     },
     "output_type": "display_data"
    }
   ],
   "source": [
    "#video2:walking\n",
    "plot_skeleton2D(lst[1][140],connect_points)"
   ]
  },
  {
   "cell_type": "code",
   "execution_count": 32,
   "id": "24ad4648",
   "metadata": {
    "scrolled": true
   },
   "outputs": [
    {
     "data": {
      "image/png": "[encoded data removed]",
      "text/plain": [
       "<Figure size 288x720 with 1 Axes>"
      ]
     },
     "metadata": {
      "needs_background": "light"
     },
     "output_type": "display_data"
    }
   ],
   "source": [
    "#video1:looking at Vehicles and show hands\n",
    "plot_skeleton2D(lst[0][350],connect_points)"
   ]
  },
  {
   "cell_type": "markdown",
   "id": "aae74633",
   "metadata": {},
   "source": [
    "## Semi-supervised learning,make some labels manuelly firstly"
   ]
  },
  {
   "cell_type": "code",
   "execution_count": 33,
   "id": "12c3c205",
   "metadata": {},
   "outputs": [],
   "source": [
    "#stack all data together\n",
    "X=np.empty((1,25,2))\n",
    "for i in lst:\n",
    "    X=np.concatenate((X,i),axis=0)"
   ]
  },
  {
   "cell_type": "code",
   "execution_count": 34,
   "id": "041b62f4",
   "metadata": {},
   "outputs": [],
   "source": [
    "#make labels,initial:all equal for -1\n",
    "Y=-1*np.ones((23408))"
   ]
  },
  {
   "cell_type": "code",
   "execution_count": 35,
   "id": "236404cf",
   "metadata": {},
   "outputs": [],
   "source": [
    "#input is the index of videos:for example:3 is video_0003\n",
    "#return:where this video data begin in the whole dataset\n",
    "def find_current_index(ind):\n",
    "    num=index.index(ind)\n",
    "    summ=0\n",
    "    for i in range(num):\n",
    "        summ+=lst[i].shape[0]\n",
    "    return summ"
   ]
  },
  {
   "cell_type": "code",
   "execution_count": 36,
   "id": "1f530011",
   "metadata": {},
   "outputs": [
    {
     "data": {
      "text/plain": [
       "(23342, (65, 25, 2))"
      ]
     },
     "execution_count": 36,
     "metadata": {},
     "output_type": "execute_result"
    }
   ],
   "source": [
    "find_current_index(346),lst[-1].shape"
   ]
  },
  {
   "cell_type": "code",
   "execution_count": 37,
   "id": "60e183b5",
   "metadata": {},
   "outputs": [],
   "source": [
    "#standing:0\n",
    "#walking:1\n",
    "#running:2\n",
    "#holding phone:3\n",
    "#looking at AV:4\n",
    "#showing hands to AV:5"
   ]
  },
  {
   "cell_type": "code",
   "execution_count": 38,
   "id": "3fda258c",
   "metadata": {},
   "outputs": [],
   "source": [
    "#make some labels manuelly\n",
    "#video0:\n",
    "Y[0:146]=0\n",
    "Y[156:337]=0\n",
    "Y[400:528]=1\n",
    "Y[147:149]=5\n",
    "#video2:\n",
    "Y[find_current_index(2)+5]=0\n",
    "Y[find_current_index(2)+17:find_current_index(2)+19]=0\n",
    "Y[find_current_index(2)+20:find_current_index(2)+177]=1\n",
    "#video3:\n",
    "Y[find_current_index(3):find_current_index(4)]=1\n",
    "#video9:\n",
    "Y[find_current_index(9)+30:find_current_index(9)+37]=0\n",
    "Y[find_current_index(9):find_current_index(9)+18]=1\n",
    "Y[find_current_index(9)+43:find_current_index(9)+75]=1\n",
    "#video10:\n",
    "Y[find_current_index(10)+15:find_current_index(10)+19]=1\n",
    "#video11:\n",
    "Y[find_current_index(11)+15:find_current_index(11)+19]=0\n",
    "Y[find_current_index(11)+51:find_current_index(11)+94]=1\n",
    "#video12:\n",
    "Y[find_current_index(12)]=1\n",
    "#video14/17/21:\n",
    "Y[find_current_index(14):find_current_index(23)]\n",
    "#video42:\n",
    "Y[find_current_index(42):find_current_index(44)]=1\n",
    "#video90:\n",
    "Y[find_current_index(90):find_current_index(90)+48]=0\n",
    "Y[find_current_index(90)+48:find_current_index(90)+208]=1\n",
    "#video102:\n",
    "Y[find_current_index(102)+76:find_current_index(102)+249]=3\n",
    "#video107:\n",
    "Y[find_current_index(107)+7:find_current_index(107)+42]=0\n",
    "Y[find_current_index(107)+43:find_current_index(107)+139]=1\n",
    "#video123:\n",
    "Y[find_current_index(123)+27:find_current_index(123)+116]=2\n",
    "Y[find_current_index(123):find_current_index(123)+4]=4\n",
    "#video140:\n",
    "Y[find_current_index(140):find_current_index(140)+33]=0\n",
    "Y[find_current_index(140)+33:find_current_index(140)+166]=1\n",
    "#video158:\n",
    "Y[find_current_index(158):find_current_index(158)+16]=0\n",
    "Y[find_current_index(158)+38:find_current_index(158)+163]=1\n",
    "#video243:\n",
    "Y[find_current_index(243)+20:find_current_index(158)+91]=2\n",
    "#video294:\n",
    "Y[find_current_index(294)+29:find_current_index(294)+76]=0\n",
    "Y[find_current_index(294)+80:find_current_index(294)+142]=1\n",
    "#video295:\n",
    "Y[find_current_index(295)+121]=3\n",
    "Y[find_current_index(295)+219:find_current_index(295)+281]=3\n",
    "#video304:\n",
    "Y[find_current_index(304)+63:find_current_index(304)+91]=0\n",
    "#video308:\n",
    "Y[find_current_index(308):find_current_index(312)]=1\n",
    "#video315\n",
    "Y[find_current_index(315)+101:find_current_index(315)+184]=1\n",
    "Y[find_current_index(315)+3]=4\n",
    "Y[find_current_index(315)+7]=4\n",
    "#video318\n",
    "Y[find_current_index(318):find_current_index(318)+235]=1\n",
    "#video329\n",
    "Y[find_current_index(329):find_current_index(329)+91]=1\n",
    "Y[find_current_index(329)+91:find_current_index(329)+131]=4\n",
    "#video339\n",
    "Y[find_current_index(339)+8:find_current_index(339)+21]=0\n",
    "Y[find_current_index(339)+127:find_current_index(339)+177]=1"
   ]
  },
  {
   "cell_type": "code",
   "execution_count": 39,
   "id": "db4863d0",
   "metadata": {},
   "outputs": [],
   "source": [
    "#SK-Learn Libraries\n",
    "from sklearn.model_selection import train_test_split\n",
    "from sklearn.semi_supervised import LabelSpreading\n",
    "from sklearn import datasets\n",
    "from sklearn.metrics import accuracy_score\n",
    "from sklearn.ensemble import RandomForestClassifier"
   ]
  },
  {
   "cell_type": "code",
   "execution_count": 40,
   "id": "343656d2",
   "metadata": {},
   "outputs": [],
   "source": [
    "# Label Spreading\n",
    "label_prop_model = LabelSpreading()"
   ]
  },
  {
   "cell_type": "code",
   "execution_count": 41,
   "id": "17c366c6",
   "metadata": {},
   "outputs": [],
   "source": [
    "X_new=X.reshape(23408,50)\n",
    "X_new_=X_new[:10000]\n",
    "Y=np.array(Y,dtype=int)\n",
    "Y_new_=Y[:10000]"
   ]
  },
  {
   "cell_type": "code",
   "execution_count": 42,
   "id": "98d4029d",
   "metadata": {},
   "outputs": [],
   "source": [
    "#fit to Label Spreading & reduce the array from 23408 to 20000\n",
    "label_prop_model.fit(X_new_,Y_new_)\n",
    "\n",
    "# Predict the Labels for Unlabeled Samples\n",
    "pred_lb = label_prop_model.predict(X_new_)"
   ]
  },
  {
   "cell_type": "code",
   "execution_count": 43,
   "id": "45d10ce1",
   "metadata": {},
   "outputs": [
    {
     "name": "stdout",
     "output_type": "stream",
     "text": [
      "Random Forest Model Accuracy (after Label Spreading):  83.90%\n"
     ]
    }
   ],
   "source": [
    "# Feature& Target  Dataset\n",
    "X_ = X_new_\n",
    "y_ = Y_new_  # labels predicted by Label Spreading\n",
    "\n",
    "#Dataset Split  [train = 90%, test = 10%]\n",
    "X_train, X_test, y_train, y_test = train_test_split(X_, y_, test_size=0.1, random_state=0) \n",
    "\n",
    "#Define Model\n",
    "model = RandomForestClassifier(verbose = 0, max_depth=2, random_state=0)\n",
    "\n",
    "#Fit\n",
    "model.fit(X_train,y_train)\n",
    "\n",
    "#Prediction\n",
    "rf_pred = model.predict(X_test)\n",
    "#Accuracy Score\n",
    "acc = accuracy_score(y_test, rf_pred)\n",
    "print(\"Random Forest Model Accuracy (after Label Spreading): \",'{:.2%}'.format(acc))"
   ]
  },
  {
   "cell_type": "code",
   "execution_count": 44,
   "id": "f2c16a1e",
   "metadata": {},
   "outputs": [
    {
     "data": {
      "text/plain": [
       "(9000, 50)"
      ]
     },
     "execution_count": 44,
     "metadata": {},
     "output_type": "execute_result"
    }
   ],
   "source": [
    "X_train.shape"
   ]
  },
  {
   "cell_type": "code",
   "execution_count": 46,
   "id": "c44f947d",
   "metadata": {},
   "outputs": [],
   "source": [
    "#dataset suit for LSTM Model\n",
    "X_train_new=X_train.reshape(9000,25,2)\n",
    "Y_train_new=pred_lb[:int(0.9*pred_lb.shape[0])]\n",
    "X_test_new=X_test.reshape(1000,25,2)\n",
    "Y_test_new=pred_lb[int(0.9*pred_lb.shape[0]):]\n"
   ]
  },
  {
   "cell_type": "markdown",
   "id": "6cd60e8a",
   "metadata": {},
   "source": [
    "### LSTM Model"
   ]
  },
  {
   "cell_type": "code",
   "execution_count": 57,
   "id": "04bbacc1",
   "metadata": {},
   "outputs": [
    {
     "name": "stdout",
     "output_type": "stream",
     "text": [
      "Epoch 1/10\n",
      "282/282 [==============================] - 4s 9ms/step - loss: 1.7456 - accuracy: 0.1687\n",
      "Epoch 2/10\n",
      "282/282 [==============================] - 3s 9ms/step - loss: 1.4941 - accuracy: 0.1687\n",
      "Epoch 3/10\n",
      "282/282 [==============================] - 2s 9ms/step - loss: 1.0481 - accuracy: 0.3423\n",
      "Epoch 4/10\n",
      "282/282 [==============================] - 3s 9ms/step - loss: 0.6437 - accuracy: 0.7170\n",
      "Epoch 5/10\n",
      "282/282 [==============================] - 2s 9ms/step - loss: 0.6281 - accuracy: 0.7190\n",
      "Epoch 6/10\n",
      "282/282 [==============================] - 2s 9ms/step - loss: 0.6273 - accuracy: 0.7190\n",
      "Epoch 7/10\n",
      "282/282 [==============================] - 2s 9ms/step - loss: 0.6265 - accuracy: 0.7192\n",
      "Epoch 8/10\n",
      "282/282 [==============================] - 2s 9ms/step - loss: 0.6258 - accuracy: 0.7193\n",
      "Epoch 9/10\n",
      "282/282 [==============================] - 3s 9ms/step - loss: 0.6255 - accuracy: 0.7194\n",
      "Epoch 10/10\n",
      "282/282 [==============================] - 3s 10ms/step - loss: 0.6248 - accuracy: 0.7196\n"
     ]
    }
   ],
   "source": [
    "from tensorflow import keras\n",
    "from tensorflow.keras.models import Sequential\n",
    "from tensorflow.keras.layers import LSTM, Dense,Input\n",
    "\n",
    "# define model\n",
    "timesteps,features,coordinate_values=X_train_new.shape\n",
    "model = Sequential()\n",
    "model.add(LSTM(64,input_shape=(features, coordinate_values)))\n",
    "model.add(Dense(128,activation='relu'))\n",
    "model.add(Dense(64,activation='relu'))\n",
    "model.add(Dense(32,activation='relu'))\n",
    "model.add(Dense(1))  # output layer，units is the unit number for output\n",
    "\n",
    "# compile model\n",
    "optimizer = keras.optimizers.Adam(learning_rate=0.00001)\n",
    "model.compile(optimizer=optimizer, loss='mean_squared_error',metrics=['accuracy'])\n",
    "\n",
    "# train model\n",
    "model.fit(X_train_new,Y_train_new,epochs=10,batch_size=32) \n",
    "\n",
    "# prediction\n",
    "predictions = model.predict(X_test_new)\n",
    "\n",
    "round_pred=np.round(predictions).astype(int)"
   ]
  },
  {
   "cell_type": "markdown",
   "id": "9eeefaef",
   "metadata": {},
   "source": [
    "### Attention+LSTM"
   ]
  },
  {
   "cell_type": "code",
   "execution_count": 59,
   "id": "f58cff78",
   "metadata": {
    "scrolled": true
   },
   "outputs": [
    {
     "name": "stdout",
     "output_type": "stream",
     "text": [
      "Epoch 1/10\n",
      "282/282 [==============================] - 5s 10ms/step - loss: 1.4999 - accuracy: 0.1687\n",
      "Epoch 2/10\n",
      "282/282 [==============================] - 3s 10ms/step - loss: 1.0800 - accuracy: 0.2637\n",
      "Epoch 3/10\n",
      "282/282 [==============================] - 3s 10ms/step - loss: 0.7258 - accuracy: 0.6890\n",
      "Epoch 4/10\n",
      "282/282 [==============================] - 3s 10ms/step - loss: 0.6548 - accuracy: 0.7157\n",
      "Epoch 5/10\n",
      "282/282 [==============================] - 3s 10ms/step - loss: 0.6509 - accuracy: 0.7172\n",
      "Epoch 6/10\n",
      "282/282 [==============================] - 3s 10ms/step - loss: 0.6477 - accuracy: 0.7180\n",
      "Epoch 7/10\n",
      "282/282 [==============================] - 3s 10ms/step - loss: 0.6451 - accuracy: 0.7186\n",
      "Epoch 8/10\n",
      "282/282 [==============================] - 3s 10ms/step - loss: 0.6426 - accuracy: 0.7193\n",
      "Epoch 9/10\n",
      "282/282 [==============================] - 3s 10ms/step - loss: 0.6404 - accuracy: 0.7197\n",
      "Epoch 10/10\n",
      "282/282 [==============================] - 3s 10ms/step - loss: 0.6384 - accuracy: 0.7199\n"
     ]
    }
   ],
   "source": [
    "from tensorflow.keras import layers\n",
    "from tensorflow import keras\n",
    "from tensorflow.keras.layers import LSTM, Dense,Input,Attention\n",
    "\n",
    "# define model\n",
    "timesteps,features,coordinate_values=X_train_new.shape\n",
    "inputs=layers.Input(shape=(features,coordinate_values))\n",
    "lstm_output=layers.LSTM(64,return_sequences=True)(inputs)\n",
    "attention=layers.Attention()([lstm_output,lstm_output])\n",
    "dense_output=layers.Dense(32,activation='tanh')(attention)#full connect layer\n",
    "output=layers.Dense(1,activation='relu')(dense_output)\n",
    "\n",
    "model=keras.Model(inputs=inputs,outputs=output)\n",
    "# compile model\n",
    "optimizer = keras.optimizers.Adam(learning_rate=0.00001)\n",
    "model.compile(optimizer=optimizer, loss='mean_squared_error',metrics=['accuracy'])\n",
    "\n",
    "# train model\n",
    "model.fit(X_train_new,Y_train_new, epochs=10, batch_size=32) \n",
    "\n",
    "# prediction\n",
    "predictions = model.predict(X_test_new)"
   ]
  },
  {
   "cell_type": "markdown",
   "id": "fb7ba0fe",
   "metadata": {},
   "source": [
    "### RNN"
   ]
  },
  {
   "cell_type": "code",
   "execution_count": 60,
   "id": "814a65ec",
   "metadata": {},
   "outputs": [
    {
     "name": "stdout",
     "output_type": "stream",
     "text": [
      "Epoch 1/10\n",
      "282/282 [==============================] - 2s 4ms/step - loss: 1.1067 - accuracy: 0.4197\n",
      "Epoch 2/10\n",
      "282/282 [==============================] - 1s 4ms/step - loss: 0.6485 - accuracy: 0.7072\n",
      "Epoch 3/10\n",
      "282/282 [==============================] - 1s 4ms/step - loss: 0.6370 - accuracy: 0.7153\n",
      "Epoch 4/10\n",
      "282/282 [==============================] - 1s 4ms/step - loss: 0.6318 - accuracy: 0.7170\n",
      "Epoch 5/10\n",
      "282/282 [==============================] - 1s 4ms/step - loss: 0.6278 - accuracy: 0.7182: 0s - los\n",
      "Epoch 6/10\n",
      "282/282 [==============================] - 1s 4ms/step - loss: 0.6248 - accuracy: 0.7186\n",
      "Epoch 7/10\n",
      "282/282 [==============================] - 1s 4ms/step - loss: 0.6227 - accuracy: 0.7198\n",
      "Epoch 8/10\n",
      "282/282 [==============================] - 1s 4ms/step - loss: 0.6212 - accuracy: 0.7200\n",
      "Epoch 9/10\n",
      "282/282 [==============================] - 1s 4ms/step - loss: 0.6202 - accuracy: 0.7202\n",
      "Epoch 10/10\n",
      "282/282 [==============================] - 1s 4ms/step - loss: 0.6193 - accuracy: 0.7202\n"
     ]
    }
   ],
   "source": [
    "from tensorflow import keras\n",
    "from tensorflow.keras.models import Sequential\n",
    "from tensorflow.keras.layers import SimpleRNN, Dense,Input\n",
    "\n",
    "# define model\n",
    "timesteps,features,coordinate_values=X_train_new.shape\n",
    "model = Sequential()\n",
    "model.add(SimpleRNN(64,input_shape=(features, coordinate_values)))\n",
    "model.add(Dense(32,activation='tanh'))  #Hideen layer\n",
    "model.add(Dense(1,activation='relu'))# output layer，units is the unit number for output\n",
    "\n",
    "# compile model\n",
    "optimizer = keras.optimizers.Adam(learning_rate=0.00001)\n",
    "model.compile(optimizer=optimizer, loss='mean_squared_error',metrics=['accuracy'])\n",
    "\n",
    "# train model\n",
    "model.fit(X_train_new,Y_train_new, epochs=10, batch_size=32) \n",
    "\n",
    "# prediction\n",
    "predictions = model.predict(X_test_new)"
   ]
  },
  {
   "cell_type": "code",
   "execution_count": null,
   "id": "5d5c6a85",
   "metadata": {},
   "outputs": [],
   "source": []
  }
 ],
 "metadata": {
  "kernelspec": {
   "display_name": "Python 3 (ipykernel)",
   "language": "python",
   "name": "python3"
  },
  "language_info": {
   "codemirror_mode": {
    "name": "ipython",
    "version": 3
   },
   "file_extension": ".py",
   "mimetype": "text/x-python",
   "name": "python",
   "nbconvert_exporter": "python",
   "pygments_lexer": "ipython3",
   "version": "3.9.7"
  }
 },
 "nbformat": 4,
 "nbformat_minor": 5
}
